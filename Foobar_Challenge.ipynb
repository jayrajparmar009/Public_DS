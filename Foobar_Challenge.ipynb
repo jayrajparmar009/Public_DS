{
 "cells": [
  {
   "cell_type": "code",
   "execution_count": null,
   "metadata": {},
   "outputs": [],
   "source": []
  },
  {
   "cell_type": "markdown",
   "metadata": {},
   "source": [
    "# <center> Google's Foobar challenge"
   ]
  },
  {
   "cell_type": "markdown",
   "metadata": {},
   "source": [
    "I Love Lance & Janice\n",
    "=====================\n",
    "\n",
    "You've caught two of your fellow minions passing coded notes back and forth -- while they're on duty,\n",
    "no less! Worse, you're pretty sure it's not job-related -- they're both huge fans of the space soap \n",
    "opera \"\"Lance & Janice\"\". You know how much Commander Lambda hates waste, so if you can prove that these \n",
    "minions are wasting time passing non-job-related notes, it'll put you that much closer to a promotion. \n",
    "\n",
    "Fortunately for you, the minions aren't exactly advanced cryptographers. In their code, every lowercase \n",
    "letter [a..z] is replaced with the corresponding one in [z..a], while every other character (including \n",
    "uppercase letters and punctuation) is left untouched.  That is, 'a' becomes 'z', 'b' becomes 'y', 'c' \n",
    "becomes 'x', etc.  For instance, the word \"\"vmxibkgrlm\"\", when decoded, would become \"\"encryption\"\".\n",
    "\n",
    "Write a function called solution(s) which takes in a string and returns the deciphered string \n",
    "so you can show the commander proof that these minions are talking about \"\"Lance & Janice\"\" instead \n",
    "of doing their jobs.\n",
    "\n",
    "Languages\n",
    "=========\n",
    "\n",
    "To provide a Python solution, edit solution.py\n",
    "To provide a Java solution, edit Solution.java\n",
    "\n",
    "\n"
   ]
  },
  {
   "cell_type": "code",
   "execution_count": 3,
   "metadata": {},
   "outputs": [
    {
     "data": {
      "text/plain": [
       "\"Yeah! I can't believe Lance lost his job at the colony!!\""
      ]
     },
     "execution_count": 3,
     "metadata": {},
     "output_type": "execute_result"
    }
   ],
   "source": [
    "x = \"Yvzs! I xzm'g yvorvev Lzmxv olhg srh qly zg gsv xlolmb!!\"\n",
    "def solution(s):\n",
    "    import string\n",
    "    alpha = list(string.ascii_lowercase)\n",
    "    alpha_reverse = alpha[::-1]\n",
    "    li = list(s)\n",
    "    strng = ''\n",
    "    for i in li:\n",
    "        if i in alpha:\n",
    "            ind = alpha.index(i)\n",
    "            revElement = alpha_reverse[ind]\n",
    "            strng+= revElement\n",
    "        else:\n",
    "            strng += i\n",
    "    return strng\n",
    "    \n",
    "x = \"Yvzs! I xzm'g yvorvev Lzmxv olhg srh qly zg gsv xlolmb!!\"   \n",
    "solution(x)"
   ]
  },
  {
   "cell_type": "markdown",
   "metadata": {},
   "source": [
    "En Route Salute\n",
    "===============\n",
    "\n",
    "Commander Lambda loves efficiency and hates anything that wastes time. The Commander is a busy lamb, after all! Henchmen who identify sources of inefficiency and come up with ways to remove them are generously rewarded. You've spotted one such source, and you think solving it will help you build the reputation you need to get promoted.\n",
    "\n",
    "Every time the Commander's employees pass each other in the hall, each of them must stop and salute each other -- one at a time -- before resuming their path. A salute is five seconds long, so each exchange of salutes takes a full ten seconds (Commander Lambda's salute is a bit, er, involved). You think that by removing the salute requirement, you could save several collective hours of employee time per day. But first, you need to show the Commander how bad the problem really is.\n",
    "\n",
    "Write a program that counts how many salutes are exchanged during a typical walk along a hallway. The hall is represented by a string. For example:\n",
    "\"--->-><-><-->-\"\n",
    "\n",
    "Each hallway string will contain three different types of characters: '>', an employee walking to the right; '<', an employee walking to the left; and '-', an empty space. Every employee walks at the same speed either to right or to the left, according to their direction. Whenever two employees cross, each of them salutes the other. They then continue walking until they reach the end, finally leaving the hallway. In the above example, they salute 10 times.\n",
    "\n",
    "Write a function solution(s) which takes a string representing employees walking along a hallway and returns the number of times the employees will salute. s will contain at least 1 and at most 100 characters, each one of -, >, or <.\n",
    "\n",
    "Languages\n",
    "=========\n",
    "\n",
    "To provide a Python solution, edit solution.py\n",
    "To provide a Java solution, edit Solution.java\n",
    "\n",
    "Test cases\n",
    "==========\n",
    "Your code should pass the following test cases.\n",
    "Note that it may also be run against hidden test cases not shown here.\n",
    "\n",
    "-- Python cases --\n",
    "Input:\n",
    "solution.solution(\">----<\")\n",
    "Output:\n",
    "    2\n",
    "\n",
    "Input:\n",
    "solution.solution(\"<<>><\")\n",
    "Output:\n",
    "    4\n",
    "\n",
    "-- Java cases --\n",
    "Input:\n",
    "Solution.solution(\"<<>><\")\n",
    "Output:\n",
    "    4\n",
    "\n",
    "Input:\n",
    "Solution.solution(\">----<\")\n",
    "Output:\n",
    "    2"
   ]
  },
  {
   "cell_type": "code",
   "execution_count": 4,
   "metadata": {},
   "outputs": [
    {
     "data": {
      "text/plain": [
       "16"
      ]
     },
     "execution_count": 4,
     "metadata": {},
     "output_type": "execute_result"
    }
   ],
   "source": [
    "s = \"<<>><<<<\"\n",
    "\n",
    "def answer(s):\n",
    "    hand_shakes = 0\n",
    "    lis = list(s)\n",
    "    for k in range(len(lis)):\n",
    "        if lis[k] == '>':\n",
    "            for l in range(k,len(lis)):\n",
    "                if lis[l] == '<':\n",
    "                    hand_shakes+=2\n",
    "    return hand_shakes\n",
    "\n",
    "answer(s)"
   ]
  },
  {
   "cell_type": "markdown",
   "metadata": {},
   "source": [
    "Elevator Maintenance\n",
    "====================\n",
    "\n",
    "You've been assigned the onerous task of elevator maintenance -- ugh! It wouldn't be so bad, except that all the elevator documentation has been lying in a disorganized pile at the bottom of a filing cabinet for years, and you don't even know what elevator version numbers you'll be working on. \n",
    "\n",
    "Elevator versions are represented by a series of numbers, divided up into major, minor and revision integers. New versions of an elevator increase the major number, e.g. 1, 2, 3, and so on. When new features are added to an elevator without being a complete new version, a second number named \"minor\" can be used to represent those new additions, e.g. 1.0, 1.1, 1.2, etc. Small fixes or maintenance work can be represented by a third number named \"revision\", e.g. 1.1.1, 1.1.2, 1.2.0, and so on. The number zero can be used as a major for pre-release versions of elevators, e.g. 0.1, 0.5, 0.9.2, etc (Commander Lambda is careful to always beta test her new technology, with her loyal henchmen as subjects!).\n",
    "\n",
    "Given a list of elevator versions represented as strings, write a function solution(l) that returns the same list sorted in ascending order by major, minor, and revision number so that you can identify the current elevator version. The versions in list l will always contain major numbers, but minor and revision numbers are optional. If the version contains a revision number, then it will also have a minor number.\n",
    "\n",
    "For example, given the list l as [\"1.1.2\", \"1.0\", \"1.3.3\", \"1.0.12\", \"1.0.2\"], the function solution(l) would return the list [\"1.0\", \"1.0.2\", \"1.0.12\", \"1.1.2\", \"1.3.3\"]. If two or more versions are equivalent but one version contains more numbers than the others, then these versions must be sorted ascending based on how many numbers they have, e.g [\"1\", \"1.0\", \"1.0.0\"]. The number of elements in the list l will be at least 1 and will not exceed 100.\n",
    "\n",
    "Languages\n",
    "=========\n",
    "\n",
    "To provide a Python solution, edit solution.py\n",
    "To provide a Java solution, edit Solution.java\n",
    "\n",
    "Test cases\n",
    "==========\n",
    "Your code should pass the following test cases.\n",
    "Note that it may also be run against hidden test cases not shown here.\n",
    "\n",
    "-- Python cases --\n",
    "Input:\n",
    "solution.solution([\"1.11\", \"2.0.0\", \"1.2\", \"2\", \"0.1\", \"1.2.1\", \"1.1.1\", \"2.0\"])\n",
    "Output:\n",
    "    0.1,1.1.1,1.2,1.2.1,1.11,2,2.0,2.0.0\n",
    "\n",
    "Input:\n",
    "solution.solution([\"1.1.2\", \"1.0\", \"1.3.3\", \"1.0.12\", \"1.0.2\"])\n",
    "Output:\n",
    "    1.0,1.0.2,1.0.12,1.1.2,1.3.3\n",
    "\n",
    "-- Java cases --\n",
    "Input:\n",
    "Solution.solution({\"1.11\", \"2.0.0\", \"1.2\", \"2\", \"0.1\", \"1.2.1\", \"1.1.1\", \"2.0\"})\n",
    "Output:\n",
    "    0.1,1.1.1,1.2,1.2.1,1.11,2,2.0,2.0.0\n",
    "\n",
    "Input:\n",
    "Solution.solution({\"1.1.2\", \"1.0\", \"1.3.3\", \"1.0.12\", \"1.0.2\"})\n",
    "Output:\n",
    "    1.0,1.0.2,1.0.12,1.1.2,1.3.3"
   ]
  },
  {
   "cell_type": "code",
   "execution_count": 5,
   "metadata": {},
   "outputs": [
    {
     "data": {
      "text/plain": [
       "['0.1', '1.1.1', '1.2', '1.2.1', '1.11', '2', '2.0', '2.0.0']"
      ]
     },
     "execution_count": 5,
     "metadata": {},
     "output_type": "execute_result"
    }
   ],
   "source": [
    "def solution(l): \n",
    "    li = []\n",
    "    li_int = []\n",
    "    test = []\n",
    "    for i in l:\n",
    "        li.append(i.split('.'))\n",
    "    for i in li:\n",
    "        test.append(list(map(int,i)))\n",
    "    srt_lis_int = sorted(test)\n",
    "    sol = [('.'.join(str(j) for j in i)) for i in srt_lis_int]\n",
    "    return sol\n",
    "\n",
    "\n",
    "test_case = [\"1.11\", \"2.0.0\", \"1.2\", \"2\", \"0.1\", \"1.2.1\", \"1.1.1\", \"2.0\"]\n",
    "solution(test_case)\n",
    "    \n"
   ]
  },
  {
   "cell_type": "markdown",
   "metadata": {},
   "source": [
    "Fuel Injection Perfection\n",
    "=========================\n",
    "\n",
    "Commander Lambda has asked for your help to refine the automatic quantum antimatter fuel injection system for the LAMBCHOP doomsday device. It's a great chance for you to get a closer look at the LAMBCHOP -- and maybe sneak in a bit of sabotage while you're at it -- so you took the job gladly. \n",
    "\n",
    "Quantum antimatter fuel comes in small pellets, which is convenient since the many moving parts of the LAMBCHOP each need to be fed fuel one pellet at a time. However, minions dump pellets in bulk into the fuel intake. You need to figure out the most efficient way to sort and shift the pellets down to a single pellet at a time. \n",
    "\n",
    "The fuel control mechanisms have three operations: \n",
    "\n",
    "1) Add one fuel pellet\n",
    "2) Remove one fuel pellet\n",
    "3) Divide the entire group of fuel pellets by 2 (due to the destructive energy released when a quantum antimatter pellet is cut in half, the safety controls will only allow this to happen if there is an even number of pellets)\n",
    "\n",
    "Write a function called solution(n) which takes a positive integer as a string and returns the minimum number of operations needed to transform the number of pellets to 1. The fuel intake control panel can only display a number up to 309 digits long, so there won't ever be more pellets than you can express in that many digits.\n",
    "\n",
    "For example:<br>\n",
    "solution(4) returns 2: 4 -> 2 -> 1<br>\n",
    "solution(15) returns 5: 15 -> 16 -> 8 -> 4 -> 2 -> 1<br>\n",
    "Languages\n",
    "=========\n",
    "\n",
    "To provide a Python solution, edit solution.py\n",
    "To provide a Java solution, edit Solution.java\n",
    "\n",
    "Test cases\n",
    "==========\n",
    "Your code should pass the following test cases.\n",
    "Note that it may also be run against hidden test cases not shown here.\n",
    "\n",
    "-- Python cases --\n",
    "Input:\n",
    "solution.solution('15')\n",
    "Output:\n",
    "    5\n",
    "\n",
    "Input:\n",
    "solution.solution('4')\n",
    "Output:\n",
    "    2\n",
    "\n",
    "-- Java cases --\n",
    "Input:\n",
    "Solution.solution('4')\n",
    "Output:\n",
    "    2\n",
    "\n",
    "Input:\n",
    "Solution.solution('15')\n",
    "Output:\n",
    "    5"
   ]
  },
  {
   "cell_type": "code",
   "execution_count": 43,
   "metadata": {},
   "outputs": [
    {
     "name": "stdout",
     "output_type": "stream",
     "text": [
      "300\n",
      "In odd\n",
      "150.0\n",
      "In even\n",
      "76.0\n",
      "In odd\n",
      "38.0\n",
      "In even\n",
      "20.0\n",
      "In odd\n",
      "10.0\n",
      "In even\n",
      "4.0\n",
      "In odd\n",
      "2.0\n",
      "In even\n"
     ]
    },
    {
     "data": {
      "text/plain": [
       "12"
      ]
     },
     "execution_count": 43,
     "metadata": {},
     "output_type": "execute_result"
    }
   ],
   "source": [
    "# Step1: Check if the number is odd or even\n",
    "# Step2: If odd then +1 \n",
    "# Step3: If its even then \n",
    "\n",
    "# n = 51\n",
    "def solution(n):\n",
    "    n = int(n)\n",
    "    step =0\n",
    "    while(n > 1):\n",
    "        if(n%2 == 0):\n",
    "        #number is even\n",
    "            print(n)\n",
    "            print('In even')\n",
    "            n = n/2\n",
    "            step += 1\n",
    "        else:\n",
    "        #number is odd\n",
    "            if n % 4 == 1 or n==3:\n",
    "                n -= 1\n",
    "            else:\n",
    "                n += 1\n",
    "            step+= 1\n",
    "            print(n)\n",
    "            print('In odd')\n",
    "            n = n/2\n",
    "            step+= 1\n",
    "    return step\n",
    "\n",
    "solution(301)"
   ]
  },
  {
   "cell_type": "code",
   "execution_count": null,
   "metadata": {},
   "outputs": [],
   "source": []
  }
 ],
 "metadata": {
  "kernelspec": {
   "display_name": "Python 3",
   "language": "python",
   "name": "python3"
  },
  "language_info": {
   "codemirror_mode": {
    "name": "ipython",
    "version": 3
   },
   "file_extension": ".py",
   "mimetype": "text/x-python",
   "name": "python",
   "nbconvert_exporter": "python",
   "pygments_lexer": "ipython3",
   "version": "3.8.3"
  }
 },
 "nbformat": 4,
 "nbformat_minor": 4
}

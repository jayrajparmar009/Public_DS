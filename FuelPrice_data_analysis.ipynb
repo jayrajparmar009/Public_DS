{
  "nbformat": 4,
  "nbformat_minor": 0,
  "metadata": {
    "colab": {
      "name": "youtube_data_analysis.ipynb",
      "provenance": [],
      "collapsed_sections": [],
      "authorship_tag": "ABX9TyOvwD4X4Mimn3oPvWkFhFz5",
      "include_colab_link": true
    },
    "kernelspec": {
      "name": "python3",
      "display_name": "Python 3"
    }
  },
  "cells": [
    {
      "cell_type": "markdown",
      "metadata": {
        "id": "view-in-github",
        "colab_type": "text"
      },
      "source": [
        "<a href=\"https://colab.research.google.com/github/jayrajparmar009/Public_DS/blob/master/FuelPrice_data_analysis.ipynb\" target=\"_parent\"><img src=\"https://colab.research.google.com/assets/colab-badge.svg\" alt=\"Open In Colab\"/></a>"
      ]
    },
    {
      "cell_type": "markdown",
      "metadata": {
        "id": "SXmKug6YqdPr"
      },
      "source": [
        "#<center> FuelPrice-data-analysis</center>"
      ]
    },
    {
      "cell_type": "code",
      "metadata": {
        "id": "QnmrF8_4oyTJ"
      },
      "source": [
        "from google.colab import drive\n"
      ],
      "execution_count": null,
      "outputs": []
    },
    {
      "cell_type": "markdown",
      "metadata": {
        "id": "3rkr831EHFu0"
      },
      "source": [
        "Connecting to google drive"
      ]
    },
    {
      "cell_type": "code",
      "metadata": {
        "colab": {
          "base_uri": "https://localhost:8080/"
        },
        "id": "6WCJGdhWo8l6",
        "outputId": "7bd7a7f1-f9c2-4408-9026-7782bd2d268a"
      },
      "source": [
        "drive.mount('/content/gdrive')"
      ],
      "execution_count": null,
      "outputs": [
        {
          "output_type": "stream",
          "text": [
            "Mounted at /content/gdrive\n"
          ],
          "name": "stdout"
        }
      ]
    },
    {
      "cell_type": "markdown",
      "metadata": {
        "id": "HiII-oHkuepo"
      },
      "source": [
        "Importing required dependencies"
      ]
    },
    {
      "cell_type": "code",
      "metadata": {
        "id": "r9fwmUO1qcsM"
      },
      "source": [
        "from googleapiclient.discovery import build\n",
        "import requests\n",
        "import pandas as pd\n",
        "import numpy as np\n",
        "import os"
      ],
      "execution_count": null,
      "outputs": []
    },
    {
      "cell_type": "code",
      "metadata": {
        "id": "ScXXB7j-L5cP"
      },
      "source": [
        "# Important functions to be used in the project later\n",
        "\n",
        "class color:\n",
        "   PURPLE = '\\033[95m'\n",
        "   CYAN = '\\033[96m'\n",
        "   DARKCYAN = '\\033[36m'\n",
        "   BLUE = '\\033[94m'\n",
        "   GREEN = '\\033[92m'\n",
        "   YELLOW = '\\033[93m'\n",
        "   RED = '\\033[91m'\n",
        "   BOLD = '\\033[1m'\n",
        "   UNDERLINE = '\\033[4m'\n",
        "   END = '\\033[0m'\n",
        "\n",
        "\n",
        "def replace_all(df, dic):\n",
        "    for i, j in dic.items():\n",
        "      df.columns = df.columns.str.replace(i, j)\n",
        "      return df\n",
        "\n",
        "def clean_colnames(df, d, char, col):\n",
        "  df.drop(col, axis=1,inplace=True)\n",
        "  replace_all(df,d)\n",
        "  df.columns = df.columns.map(lambda x: x.split(char)[0])\n",
        "  return df\n",
        "\n",
        "\n",
        "def null_values(missing_companies):\n",
        "    missing_companies = pd.concat([missing_companies.isnull().sum().sort_values(ascending = False),\n",
        "                         round(missing_companies.isnull().sum()/missing_companies.isnull().count()*100,2).sort_values(ascending=False)],\n",
        "                              axis=1, keys = ['counts', 'percentage'])\n",
        "    missing_companies['percentage'] = missing_companies['percentage'].astype(str)+'%'\n",
        "    missing_companies=missing_companies[missing_companies['counts']>0]\n",
        "    return(missing_companies)"
      ],
      "execution_count": null,
      "outputs": []
    },
    {
      "cell_type": "markdown",
      "metadata": {
        "id": "-qhkn6RCuYa8"
      },
      "source": [
        "Changing location of the directory to set to desired folder"
      ]
    },
    {
      "cell_type": "code",
      "metadata": {
        "id": "_V1IobAm0Ofg",
        "colab": {
          "base_uri": "https://localhost:8080/"
        },
        "outputId": "cb24e5ba-5ccc-4669-f14c-8c730c7b6b59"
      },
      "source": [
        "%cd /content/gdrive/MyDrive/google_colab/Fuel_Price"
      ],
      "execution_count": null,
      "outputs": [
        {
          "output_type": "stream",
          "text": [
            "/content/gdrive/MyDrive/google_colab/Fuel_Price\n"
          ],
          "name": "stdout"
        }
      ]
    },
    {
      "cell_type": "code",
      "metadata": {
        "colab": {
          "base_uri": "https://localhost:8080/",
          "height": 445
        },
        "id": "wO_BueGdHbMQ",
        "outputId": "2628942c-dc99-400a-f1aa-2271ba70a965"
      },
      "source": [
        "fuel_price = pd.read_csv('https://ontario.ca/files/fuel-prices/fueltypesall.csv')\n",
        "fuel_price.head()"
      ],
      "execution_count": null,
      "outputs": [
        {
          "output_type": "execute_result",
          "data": {
            "text/html": [
              "<div>\n",
              "<style scoped>\n",
              "    .dataframe tbody tr th:only-of-type {\n",
              "        vertical-align: middle;\n",
              "    }\n",
              "\n",
              "    .dataframe tbody tr th {\n",
              "        vertical-align: top;\n",
              "    }\n",
              "\n",
              "    .dataframe thead th {\n",
              "        text-align: right;\n",
              "    }\n",
              "</style>\n",
              "<table border=\"1\" class=\"dataframe\">\n",
              "  <thead>\n",
              "    <tr style=\"text-align: right;\">\n",
              "      <th></th>\n",
              "      <th>Date</th>\n",
              "      <th>Ottawa</th>\n",
              "      <th>Toronto West/Ouest</th>\n",
              "      <th>Toronto East/Est</th>\n",
              "      <th>Windsor</th>\n",
              "      <th>London</th>\n",
              "      <th>Peterborough</th>\n",
              "      <th>St. Catharine's</th>\n",
              "      <th>Sudbury</th>\n",
              "      <th>Sault Saint Marie</th>\n",
              "      <th>Thunder Bay</th>\n",
              "      <th>North Bay</th>\n",
              "      <th>Timmins</th>\n",
              "      <th>Kenora</th>\n",
              "      <th>Parry Sound</th>\n",
              "      <th>Ontario Average/Moyenne provinciale</th>\n",
              "      <th>Southern Average/Moyenne du sud de l'Ontario</th>\n",
              "      <th>Northern Average/Moyenne du nord de l'Ontario</th>\n",
              "      <th>Fuel Type</th>\n",
              "      <th>Type de carburant</th>\n",
              "    </tr>\n",
              "  </thead>\n",
              "  <tbody>\n",
              "    <tr>\n",
              "      <th>0</th>\n",
              "      <td>01/03/1990</td>\n",
              "      <td>55.9</td>\n",
              "      <td>49.1</td>\n",
              "      <td>48.7</td>\n",
              "      <td>45.2</td>\n",
              "      <td>50.1</td>\n",
              "      <td>0.0</td>\n",
              "      <td>0.0</td>\n",
              "      <td>56.4</td>\n",
              "      <td>54.8</td>\n",
              "      <td>56.6</td>\n",
              "      <td>55.1</td>\n",
              "      <td>58.1</td>\n",
              "      <td>0.0</td>\n",
              "      <td>0.0</td>\n",
              "      <td>50.3</td>\n",
              "      <td>49.5</td>\n",
              "      <td>56.2</td>\n",
              "      <td>Regular Unleaded Gasoline</td>\n",
              "      <td>Essence sans plomb</td>\n",
              "    </tr>\n",
              "    <tr>\n",
              "      <th>1</th>\n",
              "      <td>01/10/1990</td>\n",
              "      <td>55.9</td>\n",
              "      <td>47.7</td>\n",
              "      <td>46.8</td>\n",
              "      <td>49.7</td>\n",
              "      <td>47.6</td>\n",
              "      <td>0.0</td>\n",
              "      <td>0.0</td>\n",
              "      <td>56.4</td>\n",
              "      <td>54.9</td>\n",
              "      <td>56.8</td>\n",
              "      <td>55.0</td>\n",
              "      <td>58.2</td>\n",
              "      <td>0.0</td>\n",
              "      <td>0.0</td>\n",
              "      <td>49.2</td>\n",
              "      <td>48.3</td>\n",
              "      <td>56.2</td>\n",
              "      <td>Regular Unleaded Gasoline</td>\n",
              "      <td>Essence sans plomb</td>\n",
              "    </tr>\n",
              "    <tr>\n",
              "      <th>2</th>\n",
              "      <td>01/17/1990</td>\n",
              "      <td>55.9</td>\n",
              "      <td>53.2</td>\n",
              "      <td>53.2</td>\n",
              "      <td>49.6</td>\n",
              "      <td>53.7</td>\n",
              "      <td>0.0</td>\n",
              "      <td>0.0</td>\n",
              "      <td>55.8</td>\n",
              "      <td>54.9</td>\n",
              "      <td>56.8</td>\n",
              "      <td>54.4</td>\n",
              "      <td>58.2</td>\n",
              "      <td>0.0</td>\n",
              "      <td>0.0</td>\n",
              "      <td>53.6</td>\n",
              "      <td>53.3</td>\n",
              "      <td>56.0</td>\n",
              "      <td>Regular Unleaded Gasoline</td>\n",
              "      <td>Essence sans plomb</td>\n",
              "    </tr>\n",
              "    <tr>\n",
              "      <th>3</th>\n",
              "      <td>01/24/1990</td>\n",
              "      <td>55.9</td>\n",
              "      <td>53.2</td>\n",
              "      <td>53.5</td>\n",
              "      <td>49.0</td>\n",
              "      <td>52.1</td>\n",
              "      <td>0.0</td>\n",
              "      <td>0.0</td>\n",
              "      <td>55.7</td>\n",
              "      <td>54.9</td>\n",
              "      <td>56.8</td>\n",
              "      <td>54.3</td>\n",
              "      <td>58.2</td>\n",
              "      <td>0.0</td>\n",
              "      <td>0.0</td>\n",
              "      <td>53.5</td>\n",
              "      <td>53.2</td>\n",
              "      <td>56.0</td>\n",
              "      <td>Regular Unleaded Gasoline</td>\n",
              "      <td>Essence sans plomb</td>\n",
              "    </tr>\n",
              "    <tr>\n",
              "      <th>4</th>\n",
              "      <td>01/31/1990</td>\n",
              "      <td>55.9</td>\n",
              "      <td>51.9</td>\n",
              "      <td>52.6</td>\n",
              "      <td>48.6</td>\n",
              "      <td>49.1</td>\n",
              "      <td>0.0</td>\n",
              "      <td>0.0</td>\n",
              "      <td>55.6</td>\n",
              "      <td>54.8</td>\n",
              "      <td>56.8</td>\n",
              "      <td>54.2</td>\n",
              "      <td>58.1</td>\n",
              "      <td>0.0</td>\n",
              "      <td>0.0</td>\n",
              "      <td>52.5</td>\n",
              "      <td>52.1</td>\n",
              "      <td>55.9</td>\n",
              "      <td>Regular Unleaded Gasoline</td>\n",
              "      <td>Essence sans plomb</td>\n",
              "    </tr>\n",
              "  </tbody>\n",
              "</table>\n",
              "</div>"
            ],
            "text/plain": [
              "         Date  Ottawa  ...                  Fuel Type   Type de carburant\n",
              "0  01/03/1990    55.9  ...  Regular Unleaded Gasoline  Essence sans plomb\n",
              "1  01/10/1990    55.9  ...  Regular Unleaded Gasoline  Essence sans plomb\n",
              "2  01/17/1990    55.9  ...  Regular Unleaded Gasoline  Essence sans plomb\n",
              "3  01/24/1990    55.9  ...  Regular Unleaded Gasoline  Essence sans plomb\n",
              "4  01/31/1990    55.9  ...  Regular Unleaded Gasoline  Essence sans plomb\n",
              "\n",
              "[5 rows x 20 columns]"
            ]
          },
          "metadata": {
            "tags": []
          },
          "execution_count": 6
        }
      ]
    },
    {
      "cell_type": "code",
      "metadata": {
        "colab": {
          "base_uri": "https://localhost:8080/"
        },
        "id": "YHa0z-FVIjDl",
        "outputId": "2e1ed9f1-d891-45a8-a03f-1fa9a7ecb991"
      },
      "source": [
        "fuel_price.columns"
      ],
      "execution_count": null,
      "outputs": [
        {
          "output_type": "execute_result",
          "data": {
            "text/plain": [
              "Index(['Date', 'Ottawa', 'Toronto West/Ouest', 'Toronto East/Est', 'Windsor',\n",
              "       'London', 'Peterborough', 'St. Catharine's', 'Sudbury',\n",
              "       'Sault Saint Marie', 'Thunder Bay', 'North Bay', 'Timmins', 'Kenora',\n",
              "       'Parry Sound', 'Ontario Average/Moyenne provinciale',\n",
              "       'Southern Average/Moyenne du sud de l'Ontario',\n",
              "       'Northern Average/Moyenne du nord de l'Ontario', 'Fuel Type',\n",
              "       'Type de carburant'],\n",
              "      dtype='object')"
            ]
          },
          "metadata": {
            "tags": []
          },
          "execution_count": 7
        }
      ]
    },
    {
      "cell_type": "markdown",
      "metadata": {
        "id": "mk7kCTU5JOl3"
      },
      "source": [
        "Cleaning column names for ease of use later; Will remove spaces with underscore. And also remove the French part of the description and one column specifically for fuel type description in French. We will use our function <b>clean_colnames</b> after creating a dictionary of all the special character that we'd like to replace"
      ]
    },
    {
      "cell_type": "code",
      "metadata": {
        "id": "1MXaklfXKDYs"
      },
      "source": [
        "d = {\".\":\"\",\"'\":\"\",\" \":\"_\"}\n",
        "fuel_price = clean_colnames(fuel_price,d,'/',['Type de carburant'])"
      ],
      "execution_count": null,
      "outputs": []
    },
    {
      "cell_type": "code",
      "metadata": {
        "id": "zeR3TRxgRMEA",
        "colab": {
          "base_uri": "https://localhost:8080/"
        },
        "outputId": "bf5a77d7-4d05-43c8-97e4-09031cbea3c4"
      },
      "source": [
        "fuel_price.columns"
      ],
      "execution_count": null,
      "outputs": [
        {
          "output_type": "execute_result",
          "data": {
            "text/plain": [
              "Index(['Date', 'Ottawa', 'Toronto West', 'Toronto East', 'Windsor', 'London',\n",
              "       'Peterborough', 'St Catharine's', 'Sudbury', 'Sault Saint Marie',\n",
              "       'Thunder Bay', 'North Bay', 'Timmins', 'Kenora', 'Parry Sound',\n",
              "       'Ontario Average', 'Southern Average', 'Northern Average', 'Fuel Type'],\n",
              "      dtype='object')"
            ]
          },
          "metadata": {
            "tags": []
          },
          "execution_count": 9
        }
      ]
    },
    {
      "cell_type": "markdown",
      "metadata": {
        "id": "QFDgkWcDQv7P"
      },
      "source": [
        "Checking to see if there are any null values in the dataframe"
      ]
    },
    {
      "cell_type": "code",
      "metadata": {
        "colab": {
          "base_uri": "https://localhost:8080/",
          "height": 49
        },
        "id": "-DuoO8sRNNGm",
        "outputId": "27fa6c16-da76-4053-ef23-d86bde7163cb"
      },
      "source": [
        "null_values(fuel_price)"
      ],
      "execution_count": null,
      "outputs": [
        {
          "output_type": "execute_result",
          "data": {
            "text/html": [
              "<div>\n",
              "<style scoped>\n",
              "    .dataframe tbody tr th:only-of-type {\n",
              "        vertical-align: middle;\n",
              "    }\n",
              "\n",
              "    .dataframe tbody tr th {\n",
              "        vertical-align: top;\n",
              "    }\n",
              "\n",
              "    .dataframe thead th {\n",
              "        text-align: right;\n",
              "    }\n",
              "</style>\n",
              "<table border=\"1\" class=\"dataframe\">\n",
              "  <thead>\n",
              "    <tr style=\"text-align: right;\">\n",
              "      <th></th>\n",
              "      <th>counts</th>\n",
              "      <th>percentage</th>\n",
              "    </tr>\n",
              "  </thead>\n",
              "  <tbody>\n",
              "  </tbody>\n",
              "</table>\n",
              "</div>"
            ],
            "text/plain": [
              "Empty DataFrame\n",
              "Columns: [counts, percentage]\n",
              "Index: []"
            ]
          },
          "metadata": {
            "tags": []
          },
          "execution_count": 93
        }
      ]
    },
    {
      "cell_type": "markdown",
      "metadata": {
        "id": "lATfiTa8RWN4"
      },
      "source": [
        "There are no values in the df"
      ]
    },
    {
      "cell_type": "code",
      "metadata": {
        "colab": {
          "base_uri": "https://localhost:8080/"
        },
        "id": "zbskCwpqOroz",
        "outputId": "7557f753-4136-4dc1-96b6-97e99c9c3920"
      },
      "source": [
        "fuel_price.info(memory_usage='deep')"
      ],
      "execution_count": null,
      "outputs": [
        {
          "output_type": "stream",
          "text": [
            "<class 'pandas.core.frame.DataFrame'>\n",
            "RangeIndex: 9590 entries, 0 to 9589\n",
            "Data columns (total 19 columns):\n",
            " #   Column             Non-Null Count  Dtype  \n",
            "---  ------             --------------  -----  \n",
            " 0   Date               9590 non-null   object \n",
            " 1   Ottawa             9590 non-null   float64\n",
            " 2   Toronto West       9590 non-null   float64\n",
            " 3   Toronto East       9590 non-null   float64\n",
            " 4   Windsor            9590 non-null   float64\n",
            " 5   London             9590 non-null   float64\n",
            " 6   Peterborough       9590 non-null   float64\n",
            " 7   St Catharine's     9590 non-null   float64\n",
            " 8   Sudbury            9590 non-null   float64\n",
            " 9   Sault Saint Marie  9590 non-null   float64\n",
            " 10  Thunder Bay        9590 non-null   float64\n",
            " 11  North Bay          9590 non-null   float64\n",
            " 12  Timmins            9590 non-null   float64\n",
            " 13  Kenora             9590 non-null   float64\n",
            " 14  Parry Sound        9590 non-null   float64\n",
            " 15  Ontario Average    9590 non-null   float64\n",
            " 16  Southern Average   9590 non-null   float64\n",
            " 17  Northern Average   9590 non-null   float64\n",
            " 18  Fuel Type          9590 non-null   object \n",
            "dtypes: float64(17), object(2)\n",
            "memory usage: 2.5 MB\n"
          ],
          "name": "stdout"
        }
      ]
    },
    {
      "cell_type": "code",
      "metadata": {
        "colab": {
          "base_uri": "https://localhost:8080/",
          "height": 351
        },
        "id": "Xv8n_Dv3RjKL",
        "outputId": "84ef442d-9f8c-4007-f36f-abecd5656529"
      },
      "source": [
        "fuel_price.describe()"
      ],
      "execution_count": null,
      "outputs": [
        {
          "output_type": "execute_result",
          "data": {
            "text/html": [
              "<div>\n",
              "<style scoped>\n",
              "    .dataframe tbody tr th:only-of-type {\n",
              "        vertical-align: middle;\n",
              "    }\n",
              "\n",
              "    .dataframe tbody tr th {\n",
              "        vertical-align: top;\n",
              "    }\n",
              "\n",
              "    .dataframe thead th {\n",
              "        text-align: right;\n",
              "    }\n",
              "</style>\n",
              "<table border=\"1\" class=\"dataframe\">\n",
              "  <thead>\n",
              "    <tr style=\"text-align: right;\">\n",
              "      <th></th>\n",
              "      <th>Ottawa</th>\n",
              "      <th>Toronto West</th>\n",
              "      <th>Toronto East</th>\n",
              "      <th>Windsor</th>\n",
              "      <th>London</th>\n",
              "      <th>Peterborough</th>\n",
              "      <th>St Catharine's</th>\n",
              "      <th>Sudbury</th>\n",
              "      <th>Sault Saint Marie</th>\n",
              "      <th>Thunder Bay</th>\n",
              "      <th>North Bay</th>\n",
              "      <th>Timmins</th>\n",
              "      <th>Kenora</th>\n",
              "      <th>Parry Sound</th>\n",
              "      <th>Ontario Average</th>\n",
              "      <th>Southern Average</th>\n",
              "      <th>Northern Average</th>\n",
              "    </tr>\n",
              "  </thead>\n",
              "  <tbody>\n",
              "    <tr>\n",
              "      <th>count</th>\n",
              "      <td>9590.000000</td>\n",
              "      <td>9590.000000</td>\n",
              "      <td>9590.000000</td>\n",
              "      <td>9590.000000</td>\n",
              "      <td>9590.000000</td>\n",
              "      <td>9590.000000</td>\n",
              "      <td>9590.000000</td>\n",
              "      <td>9590.000000</td>\n",
              "      <td>9590.000000</td>\n",
              "      <td>9590.000000</td>\n",
              "      <td>9590.000000</td>\n",
              "      <td>9590.000000</td>\n",
              "      <td>9590.000000</td>\n",
              "      <td>9590.000000</td>\n",
              "      <td>9590.000000</td>\n",
              "      <td>9590.000000</td>\n",
              "      <td>9590.000000</td>\n",
              "    </tr>\n",
              "    <tr>\n",
              "      <th>mean</th>\n",
              "      <td>76.875214</td>\n",
              "      <td>75.333775</td>\n",
              "      <td>76.614307</td>\n",
              "      <td>74.792231</td>\n",
              "      <td>76.483587</td>\n",
              "      <td>1.458071</td>\n",
              "      <td>1.489906</td>\n",
              "      <td>67.196830</td>\n",
              "      <td>74.695360</td>\n",
              "      <td>62.440104</td>\n",
              "      <td>54.506632</td>\n",
              "      <td>57.070772</td>\n",
              "      <td>1.913879</td>\n",
              "      <td>1.490542</td>\n",
              "      <td>78.808853</td>\n",
              "      <td>68.358436</td>\n",
              "      <td>74.631825</td>\n",
              "    </tr>\n",
              "    <tr>\n",
              "      <th>std</th>\n",
              "      <td>33.910880</td>\n",
              "      <td>34.841599</td>\n",
              "      <td>33.479057</td>\n",
              "      <td>32.633027</td>\n",
              "      <td>33.569625</td>\n",
              "      <td>12.232920</td>\n",
              "      <td>12.514634</td>\n",
              "      <td>46.192584</td>\n",
              "      <td>43.178585</td>\n",
              "      <td>53.272145</td>\n",
              "      <td>52.365569</td>\n",
              "      <td>54.846539</td>\n",
              "      <td>14.306114</td>\n",
              "      <td>12.516926</td>\n",
              "      <td>30.918222</td>\n",
              "      <td>42.006753</td>\n",
              "      <td>43.127923</td>\n",
              "    </tr>\n",
              "    <tr>\n",
              "      <th>min</th>\n",
              "      <td>0.000000</td>\n",
              "      <td>0.000000</td>\n",
              "      <td>0.000000</td>\n",
              "      <td>0.000000</td>\n",
              "      <td>0.000000</td>\n",
              "      <td>0.000000</td>\n",
              "      <td>0.000000</td>\n",
              "      <td>0.000000</td>\n",
              "      <td>0.000000</td>\n",
              "      <td>0.000000</td>\n",
              "      <td>0.000000</td>\n",
              "      <td>0.000000</td>\n",
              "      <td>0.000000</td>\n",
              "      <td>0.000000</td>\n",
              "      <td>0.000000</td>\n",
              "      <td>0.000000</td>\n",
              "      <td>0.000000</td>\n",
              "    </tr>\n",
              "    <tr>\n",
              "      <th>25%</th>\n",
              "      <td>54.900000</td>\n",
              "      <td>51.900000</td>\n",
              "      <td>53.400000</td>\n",
              "      <td>53.600000</td>\n",
              "      <td>54.900000</td>\n",
              "      <td>0.000000</td>\n",
              "      <td>0.000000</td>\n",
              "      <td>40.100000</td>\n",
              "      <td>52.600000</td>\n",
              "      <td>0.000000</td>\n",
              "      <td>0.000000</td>\n",
              "      <td>0.000000</td>\n",
              "      <td>0.000000</td>\n",
              "      <td>0.000000</td>\n",
              "      <td>56.000000</td>\n",
              "      <td>48.800000</td>\n",
              "      <td>52.500000</td>\n",
              "    </tr>\n",
              "    <tr>\n",
              "      <th>50%</th>\n",
              "      <td>71.050000</td>\n",
              "      <td>67.750000</td>\n",
              "      <td>67.200000</td>\n",
              "      <td>65.900000</td>\n",
              "      <td>69.100000</td>\n",
              "      <td>0.000000</td>\n",
              "      <td>0.000000</td>\n",
              "      <td>65.000000</td>\n",
              "      <td>73.800000</td>\n",
              "      <td>64.400000</td>\n",
              "      <td>56.800000</td>\n",
              "      <td>59.600000</td>\n",
              "      <td>0.000000</td>\n",
              "      <td>0.000000</td>\n",
              "      <td>70.700000</td>\n",
              "      <td>64.000000</td>\n",
              "      <td>74.200000</td>\n",
              "    </tr>\n",
              "    <tr>\n",
              "      <th>75%</th>\n",
              "      <td>101.200000</td>\n",
              "      <td>102.800000</td>\n",
              "      <td>102.500000</td>\n",
              "      <td>99.200000</td>\n",
              "      <td>101.600000</td>\n",
              "      <td>0.000000</td>\n",
              "      <td>0.000000</td>\n",
              "      <td>104.800000</td>\n",
              "      <td>107.400000</td>\n",
              "      <td>109.500000</td>\n",
              "      <td>103.900000</td>\n",
              "      <td>109.900000</td>\n",
              "      <td>0.000000</td>\n",
              "      <td>0.000000</td>\n",
              "      <td>102.600000</td>\n",
              "      <td>102.200000</td>\n",
              "      <td>107.400000</td>\n",
              "    </tr>\n",
              "    <tr>\n",
              "      <th>max</th>\n",
              "      <td>156.200000</td>\n",
              "      <td>158.300000</td>\n",
              "      <td>156.900000</td>\n",
              "      <td>156.200000</td>\n",
              "      <td>155.600000</td>\n",
              "      <td>125.800000</td>\n",
              "      <td>126.700000</td>\n",
              "      <td>162.400000</td>\n",
              "      <td>159.100000</td>\n",
              "      <td>164.100000</td>\n",
              "      <td>160.700000</td>\n",
              "      <td>161.300000</td>\n",
              "      <td>126.500000</td>\n",
              "      <td>126.200000</td>\n",
              "      <td>156.400000</td>\n",
              "      <td>156.200000</td>\n",
              "      <td>160.200000</td>\n",
              "    </tr>\n",
              "  </tbody>\n",
              "</table>\n",
              "</div>"
            ],
            "text/plain": [
              "            Ottawa  Toronto West  ...  Southern Average  Northern Average\n",
              "count  9590.000000   9590.000000  ...       9590.000000       9590.000000\n",
              "mean     76.875214     75.333775  ...         68.358436         74.631825\n",
              "std      33.910880     34.841599  ...         42.006753         43.127923\n",
              "min       0.000000      0.000000  ...          0.000000          0.000000\n",
              "25%      54.900000     51.900000  ...         48.800000         52.500000\n",
              "50%      71.050000     67.750000  ...         64.000000         74.200000\n",
              "75%     101.200000    102.800000  ...        102.200000        107.400000\n",
              "max     156.200000    158.300000  ...        156.200000        160.200000\n",
              "\n",
              "[8 rows x 17 columns]"
            ]
          },
          "metadata": {
            "tags": []
          },
          "execution_count": 95
        }
      ]
    },
    {
      "cell_type": "code",
      "metadata": {
        "colab": {
          "base_uri": "https://localhost:8080/"
        },
        "id": "ExDygJ9dRwyF",
        "outputId": "6d66ad90-17e1-4396-9837-4f5d9f3ab14a"
      },
      "source": [
        "fuel_price[['Peterborough','St._Catharine's']]"
      ],
      "execution_count": null,
      "outputs": [
        {
          "output_type": "execute_result",
          "data": {
            "text/plain": [
              "Index(['Date', 'Ottawa', 'Toronto_West', 'Toronto_East', 'Windsor', 'London',\n",
              "       'Peterborough', 'St._Catharine's', 'Sudbury', 'Sault_Saint_Marie',\n",
              "       'Thunder_Bay', 'North_Bay', 'Timmins', 'Kenora', 'Parry_Sound',\n",
              "       'Ontario_Average', 'Southern_Average', 'Northern_Average', 'Fuel_Type'],\n",
              "      dtype='object')"
            ]
          },
          "metadata": {
            "tags": []
          },
          "execution_count": 70
        }
      ]
    },
    {
      "cell_type": "code",
      "metadata": {
        "id": "yhba3YLfR1FJ"
      },
      "source": [
        ""
      ],
      "execution_count": null,
      "outputs": []
    }
  ]
}
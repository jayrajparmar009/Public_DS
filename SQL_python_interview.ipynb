{
 "cells": [
  {
   "cell_type": "markdown",
   "metadata": {},
   "source": [
    "\n",
    "\n",
    "\n",
    "</div>\n",
    "<table>\n",
    "    <tr style=\"background-color:white;\"> \n",
    "        <td> <img src=\"files/Python_logo.png\" style=\"width:50px;height:50px;float:right\"> </td>\n",
    "        <td> <p style=\"float:right;color:Green;font-size:40px\">Data Analysis Practice</p></td>\n",
    "    </tr>\n",
    "</table>    "
   ]
  },
  {
   "cell_type": "markdown",
   "metadata": {},
   "source": [
    "<b>Question:</b> Is the referral/marketing campaign feasible and earning the profit?\n",
    "<br><b>Scenario:</b> Customers who signs up are given discount of <b>10 dollars</b> if they share certain marketing/referral text on their social media. Someone who signs up using that referral link on social media shared status will get discount worth <b>20 dollars</b>.\n",
    "\n",
    "\n",
    "<br>Given Information:</br> Company has been collecting data on this campaign and has some data for Users and referrals in these two tables:\n",
    "\n",
    "\n",
    "<br>\n",
    "\n",
    "* Table User\n",
    "    - id, name, referring_user_id\n",
    "* Table Purchase\n",
    "    - id, user_id, date, total, discounts\n"
   ]
  },
  {
   "cell_type": "markdown",
   "metadata": {},
   "source": [
    "_______________"
   ]
  },
  {
   "cell_type": "markdown",
   "metadata": {},
   "source": [
    "<b>Appraoch:</b> My approach here is to create the dummy data for both the tables using python and then use SQL(as in company settings generally SQL is used to fetch the data from databases) to fetch the data and provide the answers:"
   ]
  },
  {
   "cell_type": "markdown",
   "metadata": {},
   "source": [
    "Importing all the important packages that might be required for the case study:"
   ]
  },
  {
   "cell_type": "code",
   "execution_count": 12,
   "metadata": {},
   "outputs": [],
   "source": [
    "import pandas as pd\n",
    "import numpy as np\n",
    "import random\n",
    "import string\n",
    "from random import shuffle, seed\n",
    "from faker.providers.person.en import Provider\n",
    "import pandasql\n",
    "import datetime\n",
    "import time\n",
    "import warnings\n",
    "warnings.filterwarnings(\"ignore\")"
   ]
  },
  {
   "cell_type": "markdown",
   "metadata": {},
   "source": [
    "## Function for generating ids:"
   ]
  },
  {
   "cell_type": "code",
   "execution_count": 13,
   "metadata": {},
   "outputs": [],
   "source": [
    "def id_generator(n, j):\n",
    "    x = []\n",
    "    for i in range(j):\n",
    "        x.append(''.join(random.choices(string.ascii_letters + string.digits, k=n)))\n",
    "    return x"
   ]
  },
  {
   "cell_type": "markdown",
   "metadata": {},
   "source": [
    "It takes input/argument <b>'n'</b> = length of desired id (I have chosen 10 over here, you'll find it in the below part of the code\n",
    "as you proceed), and <b>'j'</b> total number of rows required in the data frame (I am going with 1000 users as of now, but can be varied depending on use case)"
   ]
  },
  {
   "cell_type": "markdown",
   "metadata": {},
   "source": [
    "## Function for generating Names (First+Last):"
   ]
  },
  {
   "cell_type": "code",
   "execution_count": 14,
   "metadata": {},
   "outputs": [],
   "source": [
    "def name_generator(j):\n",
    "    first_names = list(set(Provider.first_names))\n",
    "    last_names = list(set(Provider.last_names))\n",
    "    seed(4321)\n",
    "    shuffle(first_names)\n",
    "    shuffle(last_names)\n",
    "    x = []\n",
    "    for i in range(j):\n",
    "        x.append(random.choice(first_names)+' '+random.choice(last_names))\n",
    "    return x"
   ]
  },
  {
   "cell_type": "markdown",
   "metadata": {},
   "source": [
    "I have used already available package named <I><b>'faker'</I></b> which offers list of first and last names that can be used in various permuation and combination to generate different names. Function takes <b>'j'</b> as an argument i.e. number of rows as in the above function"
   ]
  },
  {
   "cell_type": "markdown",
   "metadata": {},
   "source": [
    "## Function for generating Random Dates:"
   ]
  },
  {
   "cell_type": "code",
   "execution_count": 15,
   "metadata": {},
   "outputs": [],
   "source": [
    "def random_dates(start, end, n):\n",
    "    start_u = start.value//10**9\n",
    "    end_u = end.value//10**9\n",
    "    x = pd.Series(pd.to_datetime(np.random.randint(start_u, end_u, n), unit='s'))\n",
    "    x = x.map(lambda x: x.date())\n",
    "    return x"
   ]
  },
  {
   "cell_type": "markdown",
   "metadata": {},
   "source": [
    "Above function takes start and end dates and generates random dates between those 2 dates. It also takes <b>'n'</b> as an argument for total number of rows required to output"
   ]
  },
  {
   "cell_type": "markdown",
   "metadata": {},
   "source": [
    "### Starting with creating the User table that has :  id, name, referring_user_id"
   ]
  },
  {
   "cell_type": "code",
   "execution_count": 16,
   "metadata": {},
   "outputs": [
    {
     "data": {
      "text/html": [
       "<div>\n",
       "<style scoped>\n",
       "    .dataframe tbody tr th:only-of-type {\n",
       "        vertical-align: middle;\n",
       "    }\n",
       "\n",
       "    .dataframe tbody tr th {\n",
       "        vertical-align: top;\n",
       "    }\n",
       "\n",
       "    .dataframe thead th {\n",
       "        text-align: right;\n",
       "    }\n",
       "</style>\n",
       "<table border=\"1\" class=\"dataframe\">\n",
       "  <thead>\n",
       "    <tr style=\"text-align: right;\">\n",
       "      <th></th>\n",
       "      <th>id</th>\n",
       "      <th>name</th>\n",
       "      <th>referring_user_id</th>\n",
       "    </tr>\n",
       "  </thead>\n",
       "  <tbody>\n",
       "  </tbody>\n",
       "</table>\n",
       "</div>"
      ],
      "text/plain": [
       "Empty DataFrame\n",
       "Columns: [id, name, referring_user_id]\n",
       "Index: []"
      ]
     },
     "execution_count": 16,
     "metadata": {},
     "output_type": "execute_result"
    }
   ],
   "source": [
    "df = pd.DataFrame(\n",
    "        columns = ['id','name','referring_user_id']) ### Initiating the dataframe\n",
    "df"
   ]
  },
  {
   "cell_type": "code",
   "execution_count": 17,
   "metadata": {},
   "outputs": [
    {
     "data": {
      "text/html": [
       "<div>\n",
       "<style scoped>\n",
       "    .dataframe tbody tr th:only-of-type {\n",
       "        vertical-align: middle;\n",
       "    }\n",
       "\n",
       "    .dataframe tbody tr th {\n",
       "        vertical-align: top;\n",
       "    }\n",
       "\n",
       "    .dataframe thead th {\n",
       "        text-align: right;\n",
       "    }\n",
       "</style>\n",
       "<table border=\"1\" class=\"dataframe\">\n",
       "  <thead>\n",
       "    <tr style=\"text-align: right;\">\n",
       "      <th></th>\n",
       "      <th>id</th>\n",
       "      <th>name</th>\n",
       "      <th>referring_user_id</th>\n",
       "    </tr>\n",
       "  </thead>\n",
       "  <tbody>\n",
       "    <tr>\n",
       "      <th>0</th>\n",
       "      <td>pvtSfPMlj9</td>\n",
       "      <td>NaN</td>\n",
       "      <td>NaN</td>\n",
       "    </tr>\n",
       "    <tr>\n",
       "      <th>1</th>\n",
       "      <td>TRI8NMbhlU</td>\n",
       "      <td>NaN</td>\n",
       "      <td>NaN</td>\n",
       "    </tr>\n",
       "    <tr>\n",
       "      <th>2</th>\n",
       "      <td>id5V3LSuSy</td>\n",
       "      <td>NaN</td>\n",
       "      <td>NaN</td>\n",
       "    </tr>\n",
       "    <tr>\n",
       "      <th>3</th>\n",
       "      <td>KtXpdiZBGq</td>\n",
       "      <td>NaN</td>\n",
       "      <td>NaN</td>\n",
       "    </tr>\n",
       "    <tr>\n",
       "      <th>4</th>\n",
       "      <td>DEMrm37Qur</td>\n",
       "      <td>NaN</td>\n",
       "      <td>NaN</td>\n",
       "    </tr>\n",
       "  </tbody>\n",
       "</table>\n",
       "</div>"
      ],
      "text/plain": [
       "           id name referring_user_id\n",
       "0  pvtSfPMlj9  NaN               NaN\n",
       "1  TRI8NMbhlU  NaN               NaN\n",
       "2  id5V3LSuSy  NaN               NaN\n",
       "3  KtXpdiZBGq  NaN               NaN\n",
       "4  DEMrm37Qur  NaN               NaN"
      ]
     },
     "execution_count": 17,
     "metadata": {},
     "output_type": "execute_result"
    }
   ],
   "source": [
    "df['id'] = pd.Series(id_generator(10, 1000)) ### Generating the id feature\n",
    "df.head(5)"
   ]
  },
  {
   "cell_type": "code",
   "execution_count": 18,
   "metadata": {},
   "outputs": [
    {
     "data": {
      "text/html": [
       "<div>\n",
       "<style scoped>\n",
       "    .dataframe tbody tr th:only-of-type {\n",
       "        vertical-align: middle;\n",
       "    }\n",
       "\n",
       "    .dataframe tbody tr th {\n",
       "        vertical-align: top;\n",
       "    }\n",
       "\n",
       "    .dataframe thead th {\n",
       "        text-align: right;\n",
       "    }\n",
       "</style>\n",
       "<table border=\"1\" class=\"dataframe\">\n",
       "  <thead>\n",
       "    <tr style=\"text-align: right;\">\n",
       "      <th></th>\n",
       "      <th>id</th>\n",
       "      <th>name</th>\n",
       "      <th>referring_user_id</th>\n",
       "    </tr>\n",
       "  </thead>\n",
       "  <tbody>\n",
       "    <tr>\n",
       "      <th>0</th>\n",
       "      <td>pvtSfPMlj9</td>\n",
       "      <td>Julisa O'Reilly</td>\n",
       "      <td>NaN</td>\n",
       "    </tr>\n",
       "    <tr>\n",
       "      <th>1</th>\n",
       "      <td>TRI8NMbhlU</td>\n",
       "      <td>Azzie Marquardt</td>\n",
       "      <td>NaN</td>\n",
       "    </tr>\n",
       "    <tr>\n",
       "      <th>2</th>\n",
       "      <td>id5V3LSuSy</td>\n",
       "      <td>Bird Hudson</td>\n",
       "      <td>NaN</td>\n",
       "    </tr>\n",
       "    <tr>\n",
       "      <th>3</th>\n",
       "      <td>KtXpdiZBGq</td>\n",
       "      <td>Danny King</td>\n",
       "      <td>NaN</td>\n",
       "    </tr>\n",
       "    <tr>\n",
       "      <th>4</th>\n",
       "      <td>DEMrm37Qur</td>\n",
       "      <td>Stacie Hagenes</td>\n",
       "      <td>NaN</td>\n",
       "    </tr>\n",
       "  </tbody>\n",
       "</table>\n",
       "</div>"
      ],
      "text/plain": [
       "           id             name referring_user_id\n",
       "0  pvtSfPMlj9  Julisa O'Reilly               NaN\n",
       "1  TRI8NMbhlU  Azzie Marquardt               NaN\n",
       "2  id5V3LSuSy      Bird Hudson               NaN\n",
       "3  KtXpdiZBGq       Danny King               NaN\n",
       "4  DEMrm37Qur   Stacie Hagenes               NaN"
      ]
     },
     "execution_count": 18,
     "metadata": {},
     "output_type": "execute_result"
    }
   ],
   "source": [
    "df['name'] = pd.Series(name_generator(1000)) ### Generating the names\n",
    "df.head(5)"
   ]
  },
  {
   "cell_type": "code",
   "execution_count": 19,
   "metadata": {},
   "outputs": [
    {
     "data": {
      "text/html": [
       "<div>\n",
       "<style scoped>\n",
       "    .dataframe tbody tr th:only-of-type {\n",
       "        vertical-align: middle;\n",
       "    }\n",
       "\n",
       "    .dataframe tbody tr th {\n",
       "        vertical-align: top;\n",
       "    }\n",
       "\n",
       "    .dataframe thead th {\n",
       "        text-align: right;\n",
       "    }\n",
       "</style>\n",
       "<table border=\"1\" class=\"dataframe\">\n",
       "  <thead>\n",
       "    <tr style=\"text-align: right;\">\n",
       "      <th></th>\n",
       "      <th>id</th>\n",
       "      <th>name</th>\n",
       "      <th>referring_user_id</th>\n",
       "    </tr>\n",
       "  </thead>\n",
       "  <tbody>\n",
       "    <tr>\n",
       "      <th>0</th>\n",
       "      <td>pvtSfPMlj9</td>\n",
       "      <td>Julisa O'Reilly</td>\n",
       "      <td>NaN</td>\n",
       "    </tr>\n",
       "    <tr>\n",
       "      <th>1</th>\n",
       "      <td>TRI8NMbhlU</td>\n",
       "      <td>Azzie Marquardt</td>\n",
       "      <td>NaN</td>\n",
       "    </tr>\n",
       "    <tr>\n",
       "      <th>2</th>\n",
       "      <td>id5V3LSuSy</td>\n",
       "      <td>Bird Hudson</td>\n",
       "      <td>CQcNWn1ZSb</td>\n",
       "    </tr>\n",
       "    <tr>\n",
       "      <th>3</th>\n",
       "      <td>KtXpdiZBGq</td>\n",
       "      <td>Danny King</td>\n",
       "      <td>NaN</td>\n",
       "    </tr>\n",
       "    <tr>\n",
       "      <th>4</th>\n",
       "      <td>DEMrm37Qur</td>\n",
       "      <td>Stacie Hagenes</td>\n",
       "      <td>tBhSeCdSKf</td>\n",
       "    </tr>\n",
       "  </tbody>\n",
       "</table>\n",
       "</div>"
      ],
      "text/plain": [
       "           id             name referring_user_id\n",
       "0  pvtSfPMlj9  Julisa O'Reilly               NaN\n",
       "1  TRI8NMbhlU  Azzie Marquardt               NaN\n",
       "2  id5V3LSuSy      Bird Hudson        CQcNWn1ZSb\n",
       "3  KtXpdiZBGq       Danny King               NaN\n",
       "4  DEMrm37Qur   Stacie Hagenes        tBhSeCdSKf"
      ]
     },
     "execution_count": 19,
     "metadata": {},
     "output_type": "execute_result"
    }
   ],
   "source": [
    "df['referring_user_id'] = np.random.permutation(\n",
    "            df.id.sample(int(df.shape[0]))) ### Generating the referring user id\n",
    "df.loc[df.sample(\n",
    "        frac=0.7).index, 'referring_user_id'] = pd.np.nan ### Inserting \n",
    "                    ##some Null values on random as \n",
    "#all the users won't be referred\n",
    "df.head(5)"
   ]
  },
  {
   "cell_type": "code",
   "execution_count": 20,
   "metadata": {},
   "outputs": [
    {
     "data": {
      "text/html": [
       "<div>\n",
       "<style scoped>\n",
       "    .dataframe tbody tr th:only-of-type {\n",
       "        vertical-align: middle;\n",
       "    }\n",
       "\n",
       "    .dataframe tbody tr th {\n",
       "        vertical-align: top;\n",
       "    }\n",
       "\n",
       "    .dataframe thead th {\n",
       "        text-align: right;\n",
       "    }\n",
       "</style>\n",
       "<table border=\"1\" class=\"dataframe\">\n",
       "  <thead>\n",
       "    <tr style=\"text-align: right;\">\n",
       "      <th></th>\n",
       "      <th>id</th>\n",
       "      <th>name</th>\n",
       "      <th>referring_user_id</th>\n",
       "    </tr>\n",
       "  </thead>\n",
       "  <tbody>\n",
       "    <tr>\n",
       "      <th>0</th>\n",
       "      <td>pvtSfPMlj9</td>\n",
       "      <td>Julisa O'Reilly</td>\n",
       "      <td>NaN</td>\n",
       "    </tr>\n",
       "    <tr>\n",
       "      <th>1</th>\n",
       "      <td>TRI8NMbhlU</td>\n",
       "      <td>Azzie Marquardt</td>\n",
       "      <td>NaN</td>\n",
       "    </tr>\n",
       "    <tr>\n",
       "      <th>2</th>\n",
       "      <td>id5V3LSuSy</td>\n",
       "      <td>Bird Hudson</td>\n",
       "      <td>CQcNWn1ZSb</td>\n",
       "    </tr>\n",
       "    <tr>\n",
       "      <th>3</th>\n",
       "      <td>KtXpdiZBGq</td>\n",
       "      <td>Danny King</td>\n",
       "      <td>NaN</td>\n",
       "    </tr>\n",
       "    <tr>\n",
       "      <th>4</th>\n",
       "      <td>DEMrm37Qur</td>\n",
       "      <td>Stacie Hagenes</td>\n",
       "      <td>tBhSeCdSKf</td>\n",
       "    </tr>\n",
       "    <tr>\n",
       "      <th>...</th>\n",
       "      <td>...</td>\n",
       "      <td>...</td>\n",
       "      <td>...</td>\n",
       "    </tr>\n",
       "    <tr>\n",
       "      <th>995</th>\n",
       "      <td>XqhtS7oEuK</td>\n",
       "      <td>Octave Bergstrom</td>\n",
       "      <td>NaN</td>\n",
       "    </tr>\n",
       "    <tr>\n",
       "      <th>996</th>\n",
       "      <td>CGuEIlKo8l</td>\n",
       "      <td>Kati Berge</td>\n",
       "      <td>NaN</td>\n",
       "    </tr>\n",
       "    <tr>\n",
       "      <th>997</th>\n",
       "      <td>PengrVycXL</td>\n",
       "      <td>Bruce Moore</td>\n",
       "      <td>NaN</td>\n",
       "    </tr>\n",
       "    <tr>\n",
       "      <th>998</th>\n",
       "      <td>WFA38miUzU</td>\n",
       "      <td>Tyrone Waters</td>\n",
       "      <td>NaN</td>\n",
       "    </tr>\n",
       "    <tr>\n",
       "      <th>999</th>\n",
       "      <td>RDQRExdXJK</td>\n",
       "      <td>Erland Smith</td>\n",
       "      <td>oaTXtvNs8k</td>\n",
       "    </tr>\n",
       "  </tbody>\n",
       "</table>\n",
       "<p>1000 rows × 3 columns</p>\n",
       "</div>"
      ],
      "text/plain": [
       "             id              name referring_user_id\n",
       "0    pvtSfPMlj9   Julisa O'Reilly               NaN\n",
       "1    TRI8NMbhlU   Azzie Marquardt               NaN\n",
       "2    id5V3LSuSy       Bird Hudson        CQcNWn1ZSb\n",
       "3    KtXpdiZBGq        Danny King               NaN\n",
       "4    DEMrm37Qur    Stacie Hagenes        tBhSeCdSKf\n",
       "..          ...               ...               ...\n",
       "995  XqhtS7oEuK  Octave Bergstrom               NaN\n",
       "996  CGuEIlKo8l        Kati Berge               NaN\n",
       "997  PengrVycXL       Bruce Moore               NaN\n",
       "998  WFA38miUzU     Tyrone Waters               NaN\n",
       "999  RDQRExdXJK      Erland Smith        oaTXtvNs8k\n",
       "\n",
       "[1000 rows x 3 columns]"
      ]
     },
     "execution_count": 20,
     "metadata": {},
     "output_type": "execute_result"
    }
   ],
   "source": [
    "df ### This is how the table looks like, it has (1000,3) shape"
   ]
  },
  {
   "cell_type": "markdown",
   "metadata": {},
   "source": [
    "### Creating the Purchase table that has :  id, user_id, date, total, discounts"
   ]
  },
  {
   "cell_type": "code",
   "execution_count": 21,
   "metadata": {},
   "outputs": [
    {
     "data": {
      "text/html": [
       "<div>\n",
       "<style scoped>\n",
       "    .dataframe tbody tr th:only-of-type {\n",
       "        vertical-align: middle;\n",
       "    }\n",
       "\n",
       "    .dataframe tbody tr th {\n",
       "        vertical-align: top;\n",
       "    }\n",
       "\n",
       "    .dataframe thead th {\n",
       "        text-align: right;\n",
       "    }\n",
       "</style>\n",
       "<table border=\"1\" class=\"dataframe\">\n",
       "  <thead>\n",
       "    <tr style=\"text-align: right;\">\n",
       "      <th></th>\n",
       "      <th>id</th>\n",
       "      <th>user_id</th>\n",
       "      <th>date</th>\n",
       "      <th>total</th>\n",
       "      <th>discount</th>\n",
       "    </tr>\n",
       "  </thead>\n",
       "  <tbody>\n",
       "  </tbody>\n",
       "</table>\n",
       "</div>"
      ],
      "text/plain": [
       "Empty DataFrame\n",
       "Columns: [id, user_id, date, total, discount]\n",
       "Index: []"
      ]
     },
     "execution_count": 21,
     "metadata": {},
     "output_type": "execute_result"
    }
   ],
   "source": [
    " ### Initiating the purchase table\n",
    "df_purchase = pd.DataFrame(columns =\n",
    "                        ['id', 'user_id','date','total','discount'])\n",
    "df_purchase.head(5)"
   ]
  },
  {
   "cell_type": "markdown",
   "metadata": {},
   "source": [
    "Generating the <b>id</b> feature and I have chosen <b>100,000</b> transaction/ purchases at random, just an assumption"
   ]
  },
  {
   "cell_type": "code",
   "execution_count": 22,
   "metadata": {},
   "outputs": [
    {
     "data": {
      "text/html": [
       "<div>\n",
       "<style scoped>\n",
       "    .dataframe tbody tr th:only-of-type {\n",
       "        vertical-align: middle;\n",
       "    }\n",
       "\n",
       "    .dataframe tbody tr th {\n",
       "        vertical-align: top;\n",
       "    }\n",
       "\n",
       "    .dataframe thead th {\n",
       "        text-align: right;\n",
       "    }\n",
       "</style>\n",
       "<table border=\"1\" class=\"dataframe\">\n",
       "  <thead>\n",
       "    <tr style=\"text-align: right;\">\n",
       "      <th></th>\n",
       "      <th>id</th>\n",
       "      <th>user_id</th>\n",
       "      <th>date</th>\n",
       "      <th>total</th>\n",
       "      <th>discount</th>\n",
       "    </tr>\n",
       "  </thead>\n",
       "  <tbody>\n",
       "    <tr>\n",
       "      <th>0</th>\n",
       "      <td>pvtSfPMlj</td>\n",
       "      <td>NaN</td>\n",
       "      <td>NaN</td>\n",
       "      <td>NaN</td>\n",
       "      <td>NaN</td>\n",
       "    </tr>\n",
       "    <tr>\n",
       "      <th>1</th>\n",
       "      <td>9TRI8NMbh</td>\n",
       "      <td>NaN</td>\n",
       "      <td>NaN</td>\n",
       "      <td>NaN</td>\n",
       "      <td>NaN</td>\n",
       "    </tr>\n",
       "    <tr>\n",
       "      <th>2</th>\n",
       "      <td>lUid5V3LS</td>\n",
       "      <td>NaN</td>\n",
       "      <td>NaN</td>\n",
       "      <td>NaN</td>\n",
       "      <td>NaN</td>\n",
       "    </tr>\n",
       "    <tr>\n",
       "      <th>3</th>\n",
       "      <td>uSyKtXpdi</td>\n",
       "      <td>NaN</td>\n",
       "      <td>NaN</td>\n",
       "      <td>NaN</td>\n",
       "      <td>NaN</td>\n",
       "    </tr>\n",
       "    <tr>\n",
       "      <th>4</th>\n",
       "      <td>ZBGqDEMrm</td>\n",
       "      <td>NaN</td>\n",
       "      <td>NaN</td>\n",
       "      <td>NaN</td>\n",
       "      <td>NaN</td>\n",
       "    </tr>\n",
       "  </tbody>\n",
       "</table>\n",
       "</div>"
      ],
      "text/plain": [
       "          id user_id date total discount\n",
       "0  pvtSfPMlj     NaN  NaN   NaN      NaN\n",
       "1  9TRI8NMbh     NaN  NaN   NaN      NaN\n",
       "2  lUid5V3LS     NaN  NaN   NaN      NaN\n",
       "3  uSyKtXpdi     NaN  NaN   NaN      NaN\n",
       "4  ZBGqDEMrm     NaN  NaN   NaN      NaN"
      ]
     },
     "execution_count": 22,
     "metadata": {},
     "output_type": "execute_result"
    }
   ],
   "source": [
    "df_purchase['id'] = pd.Series(id_generator(9, 100000)) ### Generating the id feature\n",
    "df_purchase.head(5)"
   ]
  },
  {
   "cell_type": "markdown",
   "metadata": {},
   "source": [
    "Taking all the ids from user table and\n",
    "creating <b>'user_id'</b> feature in purchase table as we would like to join and see some results. I have used <b>.sample()</b>\n",
    "method with <b>replcement = True</b> which would take values from ids and keep on replacing it meaning <I>duplicate</I> them "
   ]
  },
  {
   "cell_type": "code",
   "execution_count": 23,
   "metadata": {},
   "outputs": [
    {
     "data": {
      "text/html": [
       "<div>\n",
       "<style scoped>\n",
       "    .dataframe tbody tr th:only-of-type {\n",
       "        vertical-align: middle;\n",
       "    }\n",
       "\n",
       "    .dataframe tbody tr th {\n",
       "        vertical-align: top;\n",
       "    }\n",
       "\n",
       "    .dataframe thead th {\n",
       "        text-align: right;\n",
       "    }\n",
       "</style>\n",
       "<table border=\"1\" class=\"dataframe\">\n",
       "  <thead>\n",
       "    <tr style=\"text-align: right;\">\n",
       "      <th></th>\n",
       "      <th>id</th>\n",
       "      <th>user_id</th>\n",
       "      <th>date</th>\n",
       "      <th>total</th>\n",
       "      <th>discount</th>\n",
       "    </tr>\n",
       "  </thead>\n",
       "  <tbody>\n",
       "    <tr>\n",
       "      <th>0</th>\n",
       "      <td>pvtSfPMlj</td>\n",
       "      <td>vytX8t6RI0</td>\n",
       "      <td>NaN</td>\n",
       "      <td>NaN</td>\n",
       "      <td>NaN</td>\n",
       "    </tr>\n",
       "    <tr>\n",
       "      <th>1</th>\n",
       "      <td>9TRI8NMbh</td>\n",
       "      <td>zPUi3e2o1D</td>\n",
       "      <td>NaN</td>\n",
       "      <td>NaN</td>\n",
       "      <td>NaN</td>\n",
       "    </tr>\n",
       "    <tr>\n",
       "      <th>2</th>\n",
       "      <td>lUid5V3LS</td>\n",
       "      <td>YTfpPba7jb</td>\n",
       "      <td>NaN</td>\n",
       "      <td>NaN</td>\n",
       "      <td>NaN</td>\n",
       "    </tr>\n",
       "    <tr>\n",
       "      <th>3</th>\n",
       "      <td>uSyKtXpdi</td>\n",
       "      <td>LNhmdN4Z11</td>\n",
       "      <td>NaN</td>\n",
       "      <td>NaN</td>\n",
       "      <td>NaN</td>\n",
       "    </tr>\n",
       "    <tr>\n",
       "      <th>4</th>\n",
       "      <td>ZBGqDEMrm</td>\n",
       "      <td>fCkS3vrejy</td>\n",
       "      <td>NaN</td>\n",
       "      <td>NaN</td>\n",
       "      <td>NaN</td>\n",
       "    </tr>\n",
       "  </tbody>\n",
       "</table>\n",
       "</div>"
      ],
      "text/plain": [
       "          id     user_id date total discount\n",
       "0  pvtSfPMlj  vytX8t6RI0  NaN   NaN      NaN\n",
       "1  9TRI8NMbh  zPUi3e2o1D  NaN   NaN      NaN\n",
       "2  lUid5V3LS  YTfpPba7jb  NaN   NaN      NaN\n",
       "3  uSyKtXpdi  LNhmdN4Z11  NaN   NaN      NaN\n",
       "4  ZBGqDEMrm  fCkS3vrejy  NaN   NaN      NaN"
      ]
     },
     "execution_count": 23,
     "metadata": {},
     "output_type": "execute_result"
    }
   ],
   "source": [
    "df_purchase['user_id'] = df.id.sample(frac = 100, replace = True).values \n",
    "df_purchase.head(5)"
   ]
  },
  {
   "cell_type": "markdown",
   "metadata": {},
   "source": [
    "Generating random dates starting from <b>2020 Jan 01 </b> to <b> 2020 Aug 01</b>, those dates are totally chosen at random and has no significance"
   ]
  },
  {
   "cell_type": "code",
   "execution_count": 24,
   "metadata": {},
   "outputs": [
    {
     "data": {
      "text/html": [
       "<div>\n",
       "<style scoped>\n",
       "    .dataframe tbody tr th:only-of-type {\n",
       "        vertical-align: middle;\n",
       "    }\n",
       "\n",
       "    .dataframe tbody tr th {\n",
       "        vertical-align: top;\n",
       "    }\n",
       "\n",
       "    .dataframe thead th {\n",
       "        text-align: right;\n",
       "    }\n",
       "</style>\n",
       "<table border=\"1\" class=\"dataframe\">\n",
       "  <thead>\n",
       "    <tr style=\"text-align: right;\">\n",
       "      <th></th>\n",
       "      <th>id</th>\n",
       "      <th>user_id</th>\n",
       "      <th>date</th>\n",
       "      <th>total</th>\n",
       "      <th>discount</th>\n",
       "    </tr>\n",
       "  </thead>\n",
       "  <tbody>\n",
       "    <tr>\n",
       "      <th>0</th>\n",
       "      <td>pvtSfPMlj</td>\n",
       "      <td>vytX8t6RI0</td>\n",
       "      <td>2020-05-25</td>\n",
       "      <td>NaN</td>\n",
       "      <td>NaN</td>\n",
       "    </tr>\n",
       "    <tr>\n",
       "      <th>1</th>\n",
       "      <td>9TRI8NMbh</td>\n",
       "      <td>zPUi3e2o1D</td>\n",
       "      <td>2019-09-29</td>\n",
       "      <td>NaN</td>\n",
       "      <td>NaN</td>\n",
       "    </tr>\n",
       "    <tr>\n",
       "      <th>2</th>\n",
       "      <td>lUid5V3LS</td>\n",
       "      <td>YTfpPba7jb</td>\n",
       "      <td>2020-04-21</td>\n",
       "      <td>NaN</td>\n",
       "      <td>NaN</td>\n",
       "    </tr>\n",
       "    <tr>\n",
       "      <th>3</th>\n",
       "      <td>uSyKtXpdi</td>\n",
       "      <td>LNhmdN4Z11</td>\n",
       "      <td>2019-01-31</td>\n",
       "      <td>NaN</td>\n",
       "      <td>NaN</td>\n",
       "    </tr>\n",
       "    <tr>\n",
       "      <th>4</th>\n",
       "      <td>ZBGqDEMrm</td>\n",
       "      <td>fCkS3vrejy</td>\n",
       "      <td>2020-03-13</td>\n",
       "      <td>NaN</td>\n",
       "      <td>NaN</td>\n",
       "    </tr>\n",
       "  </tbody>\n",
       "</table>\n",
       "</div>"
      ],
      "text/plain": [
       "          id     user_id        date total discount\n",
       "0  pvtSfPMlj  vytX8t6RI0  2020-05-25   NaN      NaN\n",
       "1  9TRI8NMbh  zPUi3e2o1D  2019-09-29   NaN      NaN\n",
       "2  lUid5V3LS  YTfpPba7jb  2020-04-21   NaN      NaN\n",
       "3  uSyKtXpdi  LNhmdN4Z11  2019-01-31   NaN      NaN\n",
       "4  ZBGqDEMrm  fCkS3vrejy  2020-03-13   NaN      NaN"
      ]
     },
     "execution_count": 24,
     "metadata": {},
     "output_type": "execute_result"
    }
   ],
   "source": [
    "df_purchase['date'] = random_dates(pd.to_datetime('2019-01-01'), \n",
    "                                   pd.to_datetime('2020-08-01'), n = 100000)\n",
    "df_purchase.head(5)"
   ]
  },
  {
   "cell_type": "markdown",
   "metadata": {},
   "source": [
    "Generating float values for <b>'total'</b> feature with highest value = <b>400</b> and lowest value = <b>40</b>, just an assumption"
   ]
  },
  {
   "cell_type": "code",
   "execution_count": 25,
   "metadata": {},
   "outputs": [
    {
     "data": {
      "text/html": [
       "<div>\n",
       "<style scoped>\n",
       "    .dataframe tbody tr th:only-of-type {\n",
       "        vertical-align: middle;\n",
       "    }\n",
       "\n",
       "    .dataframe tbody tr th {\n",
       "        vertical-align: top;\n",
       "    }\n",
       "\n",
       "    .dataframe thead th {\n",
       "        text-align: right;\n",
       "    }\n",
       "</style>\n",
       "<table border=\"1\" class=\"dataframe\">\n",
       "  <thead>\n",
       "    <tr style=\"text-align: right;\">\n",
       "      <th></th>\n",
       "      <th>id</th>\n",
       "      <th>user_id</th>\n",
       "      <th>date</th>\n",
       "      <th>total</th>\n",
       "      <th>discount</th>\n",
       "    </tr>\n",
       "  </thead>\n",
       "  <tbody>\n",
       "    <tr>\n",
       "      <th>0</th>\n",
       "      <td>pvtSfPMlj</td>\n",
       "      <td>vytX8t6RI0</td>\n",
       "      <td>2020-05-25</td>\n",
       "      <td>173.03</td>\n",
       "      <td>NaN</td>\n",
       "    </tr>\n",
       "    <tr>\n",
       "      <th>1</th>\n",
       "      <td>9TRI8NMbh</td>\n",
       "      <td>zPUi3e2o1D</td>\n",
       "      <td>2019-09-29</td>\n",
       "      <td>227.72</td>\n",
       "      <td>NaN</td>\n",
       "    </tr>\n",
       "    <tr>\n",
       "      <th>2</th>\n",
       "      <td>lUid5V3LS</td>\n",
       "      <td>YTfpPba7jb</td>\n",
       "      <td>2020-04-21</td>\n",
       "      <td>215.89</td>\n",
       "      <td>NaN</td>\n",
       "    </tr>\n",
       "    <tr>\n",
       "      <th>3</th>\n",
       "      <td>uSyKtXpdi</td>\n",
       "      <td>LNhmdN4Z11</td>\n",
       "      <td>2019-01-31</td>\n",
       "      <td>244.31</td>\n",
       "      <td>NaN</td>\n",
       "    </tr>\n",
       "    <tr>\n",
       "      <th>4</th>\n",
       "      <td>ZBGqDEMrm</td>\n",
       "      <td>fCkS3vrejy</td>\n",
       "      <td>2020-03-13</td>\n",
       "      <td>344.28</td>\n",
       "      <td>NaN</td>\n",
       "    </tr>\n",
       "  </tbody>\n",
       "</table>\n",
       "</div>"
      ],
      "text/plain": [
       "          id     user_id        date   total discount\n",
       "0  pvtSfPMlj  vytX8t6RI0  2020-05-25  173.03      NaN\n",
       "1  9TRI8NMbh  zPUi3e2o1D  2019-09-29  227.72      NaN\n",
       "2  lUid5V3LS  YTfpPba7jb  2020-04-21  215.89      NaN\n",
       "3  uSyKtXpdi  LNhmdN4Z11  2019-01-31  244.31      NaN\n",
       "4  ZBGqDEMrm  fCkS3vrejy  2020-03-13  344.28      NaN"
      ]
     },
     "execution_count": 25,
     "metadata": {},
     "output_type": "execute_result"
    }
   ],
   "source": [
    "df_purchase['total'] = round(pd.Series(np.random.uniform(low=40, high=400,\n",
    "                                                     size=(10000,1)).tolist()).str[0],2)\n",
    "df_purchase.head(5)"
   ]
  },
  {
   "cell_type": "markdown",
   "metadata": {},
   "source": [
    "Generating float values for <b>'discount'</b> feature with highest value = <b>100</b> and lowest value = <b>0</b>, again just an assumption. \n",
    "\n",
    "Also I have randomly imputed <b>60%</b> of the discount values with <b>0</b> because not everyone gets the discount.\n",
    "Assumption: <b>40%</b> of the transacation has discounts attached to it\n"
   ]
  },
  {
   "cell_type": "code",
   "execution_count": 26,
   "metadata": {},
   "outputs": [
    {
     "data": {
      "text/html": [
       "<div>\n",
       "<style scoped>\n",
       "    .dataframe tbody tr th:only-of-type {\n",
       "        vertical-align: middle;\n",
       "    }\n",
       "\n",
       "    .dataframe tbody tr th {\n",
       "        vertical-align: top;\n",
       "    }\n",
       "\n",
       "    .dataframe thead th {\n",
       "        text-align: right;\n",
       "    }\n",
       "</style>\n",
       "<table border=\"1\" class=\"dataframe\">\n",
       "  <thead>\n",
       "    <tr style=\"text-align: right;\">\n",
       "      <th></th>\n",
       "      <th>id</th>\n",
       "      <th>user_id</th>\n",
       "      <th>date</th>\n",
       "      <th>total</th>\n",
       "      <th>discount</th>\n",
       "    </tr>\n",
       "  </thead>\n",
       "  <tbody>\n",
       "    <tr>\n",
       "      <th>0</th>\n",
       "      <td>pvtSfPMlj</td>\n",
       "      <td>vytX8t6RI0</td>\n",
       "      <td>2020-05-25</td>\n",
       "      <td>173.03</td>\n",
       "      <td>0.0</td>\n",
       "    </tr>\n",
       "    <tr>\n",
       "      <th>1</th>\n",
       "      <td>9TRI8NMbh</td>\n",
       "      <td>zPUi3e2o1D</td>\n",
       "      <td>2019-09-29</td>\n",
       "      <td>227.72</td>\n",
       "      <td>10.0</td>\n",
       "    </tr>\n",
       "    <tr>\n",
       "      <th>2</th>\n",
       "      <td>lUid5V3LS</td>\n",
       "      <td>YTfpPba7jb</td>\n",
       "      <td>2020-04-21</td>\n",
       "      <td>215.89</td>\n",
       "      <td>0.0</td>\n",
       "    </tr>\n",
       "    <tr>\n",
       "      <th>3</th>\n",
       "      <td>uSyKtXpdi</td>\n",
       "      <td>LNhmdN4Z11</td>\n",
       "      <td>2019-01-31</td>\n",
       "      <td>244.31</td>\n",
       "      <td>92.0</td>\n",
       "    </tr>\n",
       "    <tr>\n",
       "      <th>4</th>\n",
       "      <td>ZBGqDEMrm</td>\n",
       "      <td>fCkS3vrejy</td>\n",
       "      <td>2020-03-13</td>\n",
       "      <td>344.28</td>\n",
       "      <td>0.0</td>\n",
       "    </tr>\n",
       "  </tbody>\n",
       "</table>\n",
       "</div>"
      ],
      "text/plain": [
       "          id     user_id        date   total  discount\n",
       "0  pvtSfPMlj  vytX8t6RI0  2020-05-25  173.03       0.0\n",
       "1  9TRI8NMbh  zPUi3e2o1D  2019-09-29  227.72      10.0\n",
       "2  lUid5V3LS  YTfpPba7jb  2020-04-21  215.89       0.0\n",
       "3  uSyKtXpdi  LNhmdN4Z11  2019-01-31  244.31      92.0\n",
       "4  ZBGqDEMrm  fCkS3vrejy  2020-03-13  344.28       0.0"
      ]
     },
     "execution_count": 26,
     "metadata": {},
     "output_type": "execute_result"
    }
   ],
   "source": [
    "df_purchase['discount'] = round(pd.Series(np.random.randint(low=0, high=100, \n",
    "                                                    size=(10000,1)).tolist()).str[0],2)\n",
    "df_purchase.loc[df_purchase.sample(frac=0.6).index, 'discount'] = 0\n",
    "df_purchase.head(5)"
   ]
  },
  {
   "cell_type": "code",
   "execution_count": 27,
   "metadata": {},
   "outputs": [
    {
     "data": {
      "text/html": [
       "<div>\n",
       "<style scoped>\n",
       "    .dataframe tbody tr th:only-of-type {\n",
       "        vertical-align: middle;\n",
       "    }\n",
       "\n",
       "    .dataframe tbody tr th {\n",
       "        vertical-align: top;\n",
       "    }\n",
       "\n",
       "    .dataframe thead th {\n",
       "        text-align: right;\n",
       "    }\n",
       "</style>\n",
       "<table border=\"1\" class=\"dataframe\">\n",
       "  <thead>\n",
       "    <tr style=\"text-align: right;\">\n",
       "      <th></th>\n",
       "      <th>id</th>\n",
       "      <th>user_id</th>\n",
       "      <th>date</th>\n",
       "      <th>total</th>\n",
       "      <th>discount</th>\n",
       "    </tr>\n",
       "  </thead>\n",
       "  <tbody>\n",
       "    <tr>\n",
       "      <th>0</th>\n",
       "      <td>pvtSfPMlj</td>\n",
       "      <td>vytX8t6RI0</td>\n",
       "      <td>2020-05-25</td>\n",
       "      <td>173.03</td>\n",
       "      <td>0.0</td>\n",
       "    </tr>\n",
       "    <tr>\n",
       "      <th>1</th>\n",
       "      <td>9TRI8NMbh</td>\n",
       "      <td>zPUi3e2o1D</td>\n",
       "      <td>2019-09-29</td>\n",
       "      <td>227.72</td>\n",
       "      <td>10.0</td>\n",
       "    </tr>\n",
       "    <tr>\n",
       "      <th>2</th>\n",
       "      <td>lUid5V3LS</td>\n",
       "      <td>YTfpPba7jb</td>\n",
       "      <td>2020-04-21</td>\n",
       "      <td>215.89</td>\n",
       "      <td>0.0</td>\n",
       "    </tr>\n",
       "    <tr>\n",
       "      <th>3</th>\n",
       "      <td>uSyKtXpdi</td>\n",
       "      <td>LNhmdN4Z11</td>\n",
       "      <td>2019-01-31</td>\n",
       "      <td>244.31</td>\n",
       "      <td>92.0</td>\n",
       "    </tr>\n",
       "    <tr>\n",
       "      <th>4</th>\n",
       "      <td>ZBGqDEMrm</td>\n",
       "      <td>fCkS3vrejy</td>\n",
       "      <td>2020-03-13</td>\n",
       "      <td>344.28</td>\n",
       "      <td>0.0</td>\n",
       "    </tr>\n",
       "    <tr>\n",
       "      <th>...</th>\n",
       "      <td>...</td>\n",
       "      <td>...</td>\n",
       "      <td>...</td>\n",
       "      <td>...</td>\n",
       "      <td>...</td>\n",
       "    </tr>\n",
       "    <tr>\n",
       "      <th>99995</th>\n",
       "      <td>FWLP1OXeu</td>\n",
       "      <td>vNk8zKH5ut</td>\n",
       "      <td>2020-05-04</td>\n",
       "      <td>NaN</td>\n",
       "      <td>0.0</td>\n",
       "    </tr>\n",
       "    <tr>\n",
       "      <th>99996</th>\n",
       "      <td>CmmuEdjWf</td>\n",
       "      <td>VndO5JT8OI</td>\n",
       "      <td>2019-05-30</td>\n",
       "      <td>NaN</td>\n",
       "      <td>0.0</td>\n",
       "    </tr>\n",
       "    <tr>\n",
       "      <th>99997</th>\n",
       "      <td>QdpaUBc7F</td>\n",
       "      <td>q57b8nC4go</td>\n",
       "      <td>2019-08-26</td>\n",
       "      <td>NaN</td>\n",
       "      <td>NaN</td>\n",
       "    </tr>\n",
       "    <tr>\n",
       "      <th>99998</th>\n",
       "      <td>R88p16h3H</td>\n",
       "      <td>6HOqPwYp5W</td>\n",
       "      <td>2019-12-26</td>\n",
       "      <td>NaN</td>\n",
       "      <td>0.0</td>\n",
       "    </tr>\n",
       "    <tr>\n",
       "      <th>99999</th>\n",
       "      <td>Eap9gblIG</td>\n",
       "      <td>9N0mEIc6AK</td>\n",
       "      <td>2019-04-27</td>\n",
       "      <td>NaN</td>\n",
       "      <td>NaN</td>\n",
       "    </tr>\n",
       "  </tbody>\n",
       "</table>\n",
       "<p>100000 rows × 5 columns</p>\n",
       "</div>"
      ],
      "text/plain": [
       "              id     user_id        date   total  discount\n",
       "0      pvtSfPMlj  vytX8t6RI0  2020-05-25  173.03       0.0\n",
       "1      9TRI8NMbh  zPUi3e2o1D  2019-09-29  227.72      10.0\n",
       "2      lUid5V3LS  YTfpPba7jb  2020-04-21  215.89       0.0\n",
       "3      uSyKtXpdi  LNhmdN4Z11  2019-01-31  244.31      92.0\n",
       "4      ZBGqDEMrm  fCkS3vrejy  2020-03-13  344.28       0.0\n",
       "...          ...         ...         ...     ...       ...\n",
       "99995  FWLP1OXeu  vNk8zKH5ut  2020-05-04     NaN       0.0\n",
       "99996  CmmuEdjWf  VndO5JT8OI  2019-05-30     NaN       0.0\n",
       "99997  QdpaUBc7F  q57b8nC4go  2019-08-26     NaN       NaN\n",
       "99998  R88p16h3H  6HOqPwYp5W  2019-12-26     NaN       0.0\n",
       "99999  Eap9gblIG  9N0mEIc6AK  2019-04-27     NaN       NaN\n",
       "\n",
       "[100000 rows x 5 columns]"
      ]
     },
     "execution_count": 27,
     "metadata": {},
     "output_type": "execute_result"
    }
   ],
   "source": [
    "df_purchase ### This is how the purchase table looks like, it has (100000,5) shape"
   ]
  },
  {
   "cell_type": "markdown",
   "metadata": {},
   "source": [
    "### Will use those 2 tables with random values and use SQL to fetch the data and performing analysis:"
   ]
  },
  {
   "cell_type": "markdown",
   "metadata": {},
   "source": [
    "<b>Logic for referral 360 table:</b> The idea behind the referral table is to create a table that has basically the <b>names of referring_user_id</b> by joining the user table with with itself on a.referring_user_id = b.id (inner join table). \n",
    "\n",
    "\n",
    "\n",
    "Second step is to create the <b>2 flags</b>\n",
    "\n",
    "<b>1. Referral_10_flag:</b> This flag is for people who posted the video on social media and will get <b>10 dollars</b> off on their total (assuming that discount is not already included in purchase table's discount feature).\n",
    "\n",
    "<b>2. Referral_20_flag:</b> This flag is for people who clicked on the referral link posted by the people on social media, these people would get <b>20 dollars</b> off on their total.\n",
    "\n",
    "These 2 flags are created by joining the inner table again with user table on a.id = b.reffering_user_id and using case when statements"
   ]
  },
  {
   "cell_type": "code",
   "execution_count": 28,
   "metadata": {},
   "outputs": [
    {
     "data": {
      "text/html": [
       "<div>\n",
       "<style scoped>\n",
       "    .dataframe tbody tr th:only-of-type {\n",
       "        vertical-align: middle;\n",
       "    }\n",
       "\n",
       "    .dataframe tbody tr th {\n",
       "        vertical-align: top;\n",
       "    }\n",
       "\n",
       "    .dataframe thead th {\n",
       "        text-align: right;\n",
       "    }\n",
       "</style>\n",
       "<table border=\"1\" class=\"dataframe\">\n",
       "  <thead>\n",
       "    <tr style=\"text-align: right;\">\n",
       "      <th></th>\n",
       "      <th>id</th>\n",
       "      <th>name</th>\n",
       "      <th>referring_user_id</th>\n",
       "      <th>referring_person</th>\n",
       "      <th>id</th>\n",
       "      <th>referred_person</th>\n",
       "      <th>referral_20_flag</th>\n",
       "      <th>referral_10_flag</th>\n",
       "    </tr>\n",
       "  </thead>\n",
       "  <tbody>\n",
       "    <tr>\n",
       "      <th>0</th>\n",
       "      <td>pvtSfPMlj9</td>\n",
       "      <td>Julisa O'Reilly</td>\n",
       "      <td>None</td>\n",
       "      <td>None</td>\n",
       "      <td>None</td>\n",
       "      <td>None</td>\n",
       "      <td>0</td>\n",
       "      <td>0</td>\n",
       "    </tr>\n",
       "    <tr>\n",
       "      <th>1</th>\n",
       "      <td>TRI8NMbhlU</td>\n",
       "      <td>Azzie Marquardt</td>\n",
       "      <td>None</td>\n",
       "      <td>None</td>\n",
       "      <td>None</td>\n",
       "      <td>None</td>\n",
       "      <td>0</td>\n",
       "      <td>0</td>\n",
       "    </tr>\n",
       "    <tr>\n",
       "      <th>2</th>\n",
       "      <td>id5V3LSuSy</td>\n",
       "      <td>Bird Hudson</td>\n",
       "      <td>CQcNWn1ZSb</td>\n",
       "      <td>Ovila Schaden</td>\n",
       "      <td>0e3b7pbORt</td>\n",
       "      <td>Huldah O'Conner</td>\n",
       "      <td>1</td>\n",
       "      <td>1</td>\n",
       "    </tr>\n",
       "    <tr>\n",
       "      <th>3</th>\n",
       "      <td>KtXpdiZBGq</td>\n",
       "      <td>Danny King</td>\n",
       "      <td>None</td>\n",
       "      <td>None</td>\n",
       "      <td>None</td>\n",
       "      <td>None</td>\n",
       "      <td>0</td>\n",
       "      <td>0</td>\n",
       "    </tr>\n",
       "    <tr>\n",
       "      <th>4</th>\n",
       "      <td>DEMrm37Qur</td>\n",
       "      <td>Stacie Hagenes</td>\n",
       "      <td>tBhSeCdSKf</td>\n",
       "      <td>Madeleine Jacobs</td>\n",
       "      <td>None</td>\n",
       "      <td>None</td>\n",
       "      <td>1</td>\n",
       "      <td>0</td>\n",
       "    </tr>\n",
       "    <tr>\n",
       "      <th>...</th>\n",
       "      <td>...</td>\n",
       "      <td>...</td>\n",
       "      <td>...</td>\n",
       "      <td>...</td>\n",
       "      <td>...</td>\n",
       "      <td>...</td>\n",
       "      <td>...</td>\n",
       "      <td>...</td>\n",
       "    </tr>\n",
       "    <tr>\n",
       "      <th>995</th>\n",
       "      <td>XqhtS7oEuK</td>\n",
       "      <td>Octave Bergstrom</td>\n",
       "      <td>None</td>\n",
       "      <td>None</td>\n",
       "      <td>None</td>\n",
       "      <td>None</td>\n",
       "      <td>0</td>\n",
       "      <td>0</td>\n",
       "    </tr>\n",
       "    <tr>\n",
       "      <th>996</th>\n",
       "      <td>CGuEIlKo8l</td>\n",
       "      <td>Kati Berge</td>\n",
       "      <td>None</td>\n",
       "      <td>None</td>\n",
       "      <td>ek3TtXvrNH</td>\n",
       "      <td>Lourdes Hauck</td>\n",
       "      <td>0</td>\n",
       "      <td>1</td>\n",
       "    </tr>\n",
       "    <tr>\n",
       "      <th>997</th>\n",
       "      <td>PengrVycXL</td>\n",
       "      <td>Bruce Moore</td>\n",
       "      <td>None</td>\n",
       "      <td>None</td>\n",
       "      <td>None</td>\n",
       "      <td>None</td>\n",
       "      <td>0</td>\n",
       "      <td>0</td>\n",
       "    </tr>\n",
       "    <tr>\n",
       "      <th>998</th>\n",
       "      <td>WFA38miUzU</td>\n",
       "      <td>Tyrone Waters</td>\n",
       "      <td>None</td>\n",
       "      <td>None</td>\n",
       "      <td>None</td>\n",
       "      <td>None</td>\n",
       "      <td>0</td>\n",
       "      <td>0</td>\n",
       "    </tr>\n",
       "    <tr>\n",
       "      <th>999</th>\n",
       "      <td>RDQRExdXJK</td>\n",
       "      <td>Erland Smith</td>\n",
       "      <td>oaTXtvNs8k</td>\n",
       "      <td>Tyreke Schimmel</td>\n",
       "      <td>None</td>\n",
       "      <td>None</td>\n",
       "      <td>1</td>\n",
       "      <td>0</td>\n",
       "    </tr>\n",
       "  </tbody>\n",
       "</table>\n",
       "<p>1000 rows × 8 columns</p>\n",
       "</div>"
      ],
      "text/plain": [
       "             id              name referring_user_id  referring_person  \\\n",
       "0    pvtSfPMlj9   Julisa O'Reilly              None              None   \n",
       "1    TRI8NMbhlU   Azzie Marquardt              None              None   \n",
       "2    id5V3LSuSy       Bird Hudson        CQcNWn1ZSb     Ovila Schaden   \n",
       "3    KtXpdiZBGq        Danny King              None              None   \n",
       "4    DEMrm37Qur    Stacie Hagenes        tBhSeCdSKf  Madeleine Jacobs   \n",
       "..          ...               ...               ...               ...   \n",
       "995  XqhtS7oEuK  Octave Bergstrom              None              None   \n",
       "996  CGuEIlKo8l        Kati Berge              None              None   \n",
       "997  PengrVycXL       Bruce Moore              None              None   \n",
       "998  WFA38miUzU     Tyrone Waters              None              None   \n",
       "999  RDQRExdXJK      Erland Smith        oaTXtvNs8k   Tyreke Schimmel   \n",
       "\n",
       "             id  referred_person  referral_20_flag  referral_10_flag  \n",
       "0          None             None                 0                 0  \n",
       "1          None             None                 0                 0  \n",
       "2    0e3b7pbORt  Huldah O'Conner                 1                 1  \n",
       "3          None             None                 0                 0  \n",
       "4          None             None                 1                 0  \n",
       "..          ...              ...               ...               ...  \n",
       "995        None             None                 0                 0  \n",
       "996  ek3TtXvrNH    Lourdes Hauck                 0                 1  \n",
       "997        None             None                 0                 0  \n",
       "998        None             None                 0                 0  \n",
       "999        None             None                 1                 0  \n",
       "\n",
       "[1000 rows x 8 columns]"
      ]
     },
     "execution_count": 28,
     "metadata": {},
     "output_type": "execute_result"
    }
   ],
   "source": [
    "user_table_referral_360 = pandasql.sqldf(\"\"\"\n",
    "                        Select a.*,\n",
    "                               b.id,\n",
    "                               b.name as referred_person,\n",
    "                        case when a.referring_user_id <> '' then 1 else 0 \n",
    "                        end as referral_20_flag,\n",
    "                        case when b.name <> '' then 1 else 0\n",
    "                        end as referral_10_flag\n",
    "                        from \n",
    "                        (Select x.*, \n",
    "                                y.name as referring_person\n",
    "                                from df x \n",
    "                                LEFT JOIN df y\n",
    "                                on x.referring_user_id = y.id) a\n",
    "                        LEFT JOIN df b\n",
    "                        on a.id = b.referring_user_id;\"\"\")\n",
    "user_table_referral_360"
   ]
  },
  {
   "cell_type": "markdown",
   "metadata": {},
   "source": [
    "Creating a <b>master_purchase</b> table by joining the user_table_referral_360 table with purchase table on a.user_id = b.id and finally <b>adding 30 dollars</b> to the users who has both the flags <b>Referral_10_flag and Referral_20_flag</b> with value = <b>1</b>. And adding <b>20 dollars for Referral_20_flag = 1 and adding 10 dollars for Referral_10_flag = 1</b>"
   ]
  },
  {
   "cell_type": "code",
   "execution_count": 29,
   "metadata": {},
   "outputs": [
    {
     "data": {
      "text/html": [
       "<div>\n",
       "<style scoped>\n",
       "    .dataframe tbody tr th:only-of-type {\n",
       "        vertical-align: middle;\n",
       "    }\n",
       "\n",
       "    .dataframe tbody tr th {\n",
       "        vertical-align: top;\n",
       "    }\n",
       "\n",
       "    .dataframe thead th {\n",
       "        text-align: right;\n",
       "    }\n",
       "</style>\n",
       "<table border=\"1\" class=\"dataframe\">\n",
       "  <thead>\n",
       "    <tr style=\"text-align: right;\">\n",
       "      <th></th>\n",
       "      <th>id</th>\n",
       "      <th>user_id</th>\n",
       "      <th>date</th>\n",
       "      <th>total</th>\n",
       "      <th>discount</th>\n",
       "      <th>referral_20_flag</th>\n",
       "      <th>referral_10_flag</th>\n",
       "      <th>new_discount</th>\n",
       "    </tr>\n",
       "  </thead>\n",
       "  <tbody>\n",
       "    <tr>\n",
       "      <th>0</th>\n",
       "      <td>pvtSfPMlj</td>\n",
       "      <td>vytX8t6RI0</td>\n",
       "      <td>2020-05-25</td>\n",
       "      <td>173.03</td>\n",
       "      <td>0.0</td>\n",
       "      <td>NaN</td>\n",
       "      <td>NaN</td>\n",
       "      <td>0.0</td>\n",
       "    </tr>\n",
       "    <tr>\n",
       "      <th>1</th>\n",
       "      <td>9TRI8NMbh</td>\n",
       "      <td>zPUi3e2o1D</td>\n",
       "      <td>2019-09-29</td>\n",
       "      <td>227.72</td>\n",
       "      <td>10.0</td>\n",
       "      <td>NaN</td>\n",
       "      <td>NaN</td>\n",
       "      <td>10.0</td>\n",
       "    </tr>\n",
       "    <tr>\n",
       "      <th>2</th>\n",
       "      <td>lUid5V3LS</td>\n",
       "      <td>YTfpPba7jb</td>\n",
       "      <td>2020-04-21</td>\n",
       "      <td>215.89</td>\n",
       "      <td>0.0</td>\n",
       "      <td>NaN</td>\n",
       "      <td>NaN</td>\n",
       "      <td>0.0</td>\n",
       "    </tr>\n",
       "    <tr>\n",
       "      <th>3</th>\n",
       "      <td>uSyKtXpdi</td>\n",
       "      <td>LNhmdN4Z11</td>\n",
       "      <td>2019-01-31</td>\n",
       "      <td>244.31</td>\n",
       "      <td>92.0</td>\n",
       "      <td>NaN</td>\n",
       "      <td>NaN</td>\n",
       "      <td>92.0</td>\n",
       "    </tr>\n",
       "    <tr>\n",
       "      <th>4</th>\n",
       "      <td>ZBGqDEMrm</td>\n",
       "      <td>fCkS3vrejy</td>\n",
       "      <td>2020-03-13</td>\n",
       "      <td>344.28</td>\n",
       "      <td>0.0</td>\n",
       "      <td>1.0</td>\n",
       "      <td>1.0</td>\n",
       "      <td>30.0</td>\n",
       "    </tr>\n",
       "    <tr>\n",
       "      <th>...</th>\n",
       "      <td>...</td>\n",
       "      <td>...</td>\n",
       "      <td>...</td>\n",
       "      <td>...</td>\n",
       "      <td>...</td>\n",
       "      <td>...</td>\n",
       "      <td>...</td>\n",
       "      <td>...</td>\n",
       "    </tr>\n",
       "    <tr>\n",
       "      <th>99995</th>\n",
       "      <td>FWLP1OXeu</td>\n",
       "      <td>vNk8zKH5ut</td>\n",
       "      <td>2020-05-04</td>\n",
       "      <td>NaN</td>\n",
       "      <td>0.0</td>\n",
       "      <td>NaN</td>\n",
       "      <td>NaN</td>\n",
       "      <td>0.0</td>\n",
       "    </tr>\n",
       "    <tr>\n",
       "      <th>99996</th>\n",
       "      <td>CmmuEdjWf</td>\n",
       "      <td>VndO5JT8OI</td>\n",
       "      <td>2019-05-30</td>\n",
       "      <td>NaN</td>\n",
       "      <td>0.0</td>\n",
       "      <td>0.0</td>\n",
       "      <td>1.0</td>\n",
       "      <td>10.0</td>\n",
       "    </tr>\n",
       "    <tr>\n",
       "      <th>99997</th>\n",
       "      <td>QdpaUBc7F</td>\n",
       "      <td>q57b8nC4go</td>\n",
       "      <td>2019-08-26</td>\n",
       "      <td>NaN</td>\n",
       "      <td>NaN</td>\n",
       "      <td>NaN</td>\n",
       "      <td>NaN</td>\n",
       "      <td>NaN</td>\n",
       "    </tr>\n",
       "    <tr>\n",
       "      <th>99998</th>\n",
       "      <td>R88p16h3H</td>\n",
       "      <td>6HOqPwYp5W</td>\n",
       "      <td>2019-12-26</td>\n",
       "      <td>NaN</td>\n",
       "      <td>0.0</td>\n",
       "      <td>1.0</td>\n",
       "      <td>1.0</td>\n",
       "      <td>30.0</td>\n",
       "    </tr>\n",
       "    <tr>\n",
       "      <th>99999</th>\n",
       "      <td>Eap9gblIG</td>\n",
       "      <td>9N0mEIc6AK</td>\n",
       "      <td>2019-04-27</td>\n",
       "      <td>NaN</td>\n",
       "      <td>NaN</td>\n",
       "      <td>NaN</td>\n",
       "      <td>NaN</td>\n",
       "      <td>NaN</td>\n",
       "    </tr>\n",
       "  </tbody>\n",
       "</table>\n",
       "<p>100000 rows × 8 columns</p>\n",
       "</div>"
      ],
      "text/plain": [
       "              id     user_id        date   total  discount  referral_20_flag  \\\n",
       "0      pvtSfPMlj  vytX8t6RI0  2020-05-25  173.03       0.0               NaN   \n",
       "1      9TRI8NMbh  zPUi3e2o1D  2019-09-29  227.72      10.0               NaN   \n",
       "2      lUid5V3LS  YTfpPba7jb  2020-04-21  215.89       0.0               NaN   \n",
       "3      uSyKtXpdi  LNhmdN4Z11  2019-01-31  244.31      92.0               NaN   \n",
       "4      ZBGqDEMrm  fCkS3vrejy  2020-03-13  344.28       0.0               1.0   \n",
       "...          ...         ...         ...     ...       ...               ...   \n",
       "99995  FWLP1OXeu  vNk8zKH5ut  2020-05-04     NaN       0.0               NaN   \n",
       "99996  CmmuEdjWf  VndO5JT8OI  2019-05-30     NaN       0.0               0.0   \n",
       "99997  QdpaUBc7F  q57b8nC4go  2019-08-26     NaN       NaN               NaN   \n",
       "99998  R88p16h3H  6HOqPwYp5W  2019-12-26     NaN       0.0               1.0   \n",
       "99999  Eap9gblIG  9N0mEIc6AK  2019-04-27     NaN       NaN               NaN   \n",
       "\n",
       "       referral_10_flag  new_discount  \n",
       "0                   NaN           0.0  \n",
       "1                   NaN          10.0  \n",
       "2                   NaN           0.0  \n",
       "3                   NaN          92.0  \n",
       "4                   1.0          30.0  \n",
       "...                 ...           ...  \n",
       "99995               NaN           0.0  \n",
       "99996               1.0          10.0  \n",
       "99997               NaN           NaN  \n",
       "99998               1.0          30.0  \n",
       "99999               NaN           NaN  \n",
       "\n",
       "[100000 rows x 8 columns]"
      ]
     },
     "execution_count": 29,
     "metadata": {},
     "output_type": "execute_result"
    }
   ],
   "source": [
    "master_purchase = pandasql.sqldf(\"\"\"\n",
    "                      Select a.*,\n",
    "                             b.referral_20_flag,\n",
    "                             b.referral_10_flag,\n",
    "                             case when b.referral_20_flag = 1 and b.referral_10_flag = 1 \n",
    "                             then a.discount + 30\n",
    "                             when b.referral_20_flag = 1 then a.discount + 20 \n",
    "                             when b.referral_10_flag = 1 then a.discount + 10\n",
    "                             else a.discount end as new_discount\n",
    "                      from df_purchase a\n",
    "                      LEFT JOIN user_table_referral_360 b\n",
    "                      on a.user_id = b.id\"\"\")\n",
    "master_purchase"
   ]
  },
  {
   "cell_type": "markdown",
   "metadata": {},
   "source": [
    "Finally creating the profit and loss table by calculating the <b>revenue = total - new_discount</b> and finally taking the sum of <b>revenue</b>. If that revenue is positive, it means that after removing all the discounts, the campaign is still making positive revenue and should continue with the campaign. If the revenue is negative then the campaign should stop as the discounts sent are exceeding then the revenue being generated with that referral campaign"
   ]
  },
  {
   "cell_type": "code",
   "execution_count": 30,
   "metadata": {},
   "outputs": [
    {
     "data": {
      "text/html": [
       "<div>\n",
       "<style scoped>\n",
       "    .dataframe tbody tr th:only-of-type {\n",
       "        vertical-align: middle;\n",
       "    }\n",
       "\n",
       "    .dataframe tbody tr th {\n",
       "        vertical-align: top;\n",
       "    }\n",
       "\n",
       "    .dataframe thead th {\n",
       "        text-align: right;\n",
       "    }\n",
       "</style>\n",
       "<table border=\"1\" class=\"dataframe\">\n",
       "  <thead>\n",
       "    <tr style=\"text-align: right;\">\n",
       "      <th></th>\n",
       "      <th>Total_Revenue</th>\n",
       "    </tr>\n",
       "  </thead>\n",
       "  <tbody>\n",
       "    <tr>\n",
       "      <th>0</th>\n",
       "      <td>1976274.37</td>\n",
       "    </tr>\n",
       "  </tbody>\n",
       "</table>\n",
       "</div>"
      ],
      "text/plain": [
       "   Total_Revenue\n",
       "0     1976274.37"
      ]
     },
     "execution_count": 30,
     "metadata": {},
     "output_type": "execute_result"
    }
   ],
   "source": [
    "profit_loss = pandasql.sqldf(\"\"\"\n",
    "                             select sum(Revenue) as Total_Revenue from \n",
    "                             (select a.*, \n",
    "                             (total-discount) as Revenue \n",
    "                             from master_purchase a)\"\"\")\n",
    "profit_loss"
   ]
  },
  {
   "cell_type": "markdown",
   "metadata": {},
   "source": [
    "The profit over here is just an hypothetical number which is a <b>positive number</b>, in real life it could be a <b>negative number</b> and if we had more data on demographic factors like age, location, gender etc. then we can dive deep onto how to profile different persona in order to target them"
   ]
  },
  {
   "cell_type": "markdown",
   "metadata": {},
   "source": [
    "# <center><b>Q2:</b> Disjointed Intervals coding question</center>"
   ]
  },
  {
   "cell_type": "markdown",
   "metadata": {},
   "source": [
    "We are looking for a program that manages disjointed intervals of integers. <br>\n",
    "E.g.: [[1, 3], [4, 6]] is a valid object gives two intervals. <br>\n",
    "[[1, 3], [3, 6]] is not a valid object because it is not disjoint. <br>\n",
    "[[1, 6]] is the intended result.<br>\n",
    "Empty array [] means no interval, it is the default/start state. <br>\n",
    "We want you to implement two functions:<br>\n",
    "add(from, to) remove(from, to)<br>\n",
    "Here is an example sequence:<br>\n",
    "Start: []<br>\n",
    "* Call: add(1, 5) => [[1, 5]]<br>\n",
    "* Call: remove(2, 3) => [[1, 2], [3, 5]]<br>\n",
    "* Call: add(6, 8) => [[1, 2], [3, 5], [6, 8]] <br>\n",
    "* Call: remove(4, 7) => [[1, 2], [3, 4], [7, 8]] <br>\n",
    "* Call: add(2, 7) => [[1, 8]]<br>\n"
   ]
  },
  {
   "cell_type": "code",
   "execution_count": 9,
   "metadata": {},
   "outputs": [
    {
     "data": {
      "text/plain": [
       "True"
      ]
     },
     "execution_count": 9,
     "metadata": {},
     "output_type": "execute_result"
    }
   ],
   "source": [
    "def isOverlap(arrA, arrB):\n",
    "    return (min(arrA[1], arrB[1]) >= max(arrA[0], arrB[0]))\n",
    "isOverlap([1,8], [5,6])"
   ]
  },
  {
   "cell_type": "code",
   "execution_count": 1,
   "metadata": {},
   "outputs": [],
   "source": [
    "def add(new_array):\n",
    "    temp = []\n",
    "    n = len(intervals)\n",
    "    print(f'N is :{n}')\n",
    "    ###  case 1: starting with the initial case where the array is empty, we will return the same array that was added\n",
    "    if len(intervals) == 0:\n",
    "        return [new_array]\n",
    "    ### Case 2: Placing the new array at the beginning or at the end;\n",
    "    if (new_array[1] < intervals[0][0] or new_array[0]> intervals[n-1][1]):\n",
    "        ### case 2a: Placing the array at the front;\n",
    "        if (new_array[1] < intervals[0][0]):\n",
    "            temp.append(new_array)\n",
    "            for i in intervals:\n",
    "                temp.append(i)\n",
    "            return temp\n",
    "        ### case 2b: Placing the new array at the end of the existing array;\n",
    "        if (new_array[0]> intervals[n-1][1]):\n",
    "            for i in intervals:\n",
    "                temp.append(i)\n",
    "            temp.append(new_array)\n",
    "            return temp\n",
    "        ### case 3: Encapsualting the old array completely given that new array covers all the elements;\n",
    "    if (new_array[0]<= intervals[0][0] and new_array[1] >= intervals[n-1][1]):\n",
    "        temp = new_array\n",
    "        return temp\n",
    "    ### Overlap cases:\n",
    "    overlap = True\n",
    "    temp2 = []\n",
    "    temp3 = [-100,-100]\n",
    "    for i in range(n):\n",
    "        overlap = isOverlap(intervals[i],new_array)\n",
    "        if overlap == False:\n",
    "            ###In case of no overlap, finding the position where new array can be inserted;\n",
    "            if new_array[0]>intervals[i][1] and new_array[1]<intervals[i+1][0]:\n",
    "#                 temp2.append(intervals[i])\n",
    "                temp = intervals\n",
    "                temp.insert(i+1, new_array)\n",
    "                return temp\n",
    "            if temp3 != [-100, -100]:   \n",
    "                 if temp3[1]<intervals[i][0]:\n",
    "                        temp2.insert(i+1,intervals[i])\n",
    "#                         temp2.append(intervals[i])\n",
    "        \n",
    "#         temp3.insert(0,min(new_array[0], intervals[i][0]))\n",
    "        temp3[0] = min(new_array[0], intervals[i][0])\n",
    "        #print(f'temp2:{temp2}')\n",
    "        while i<n and overlap == True:\n",
    "            print(f'loop start:{i}')\n",
    "            temp3[1] = max(new_array[1], intervals[i][1])\n",
    "#             temp3.insert(1, max(new_array[1], intervals[i][1]))\n",
    "            print(f' temp3 is {temp3}')\n",
    "            if i==(n-1):\n",
    "                overlap = False\n",
    "            else:\n",
    "                overlap = isOverlap(intervals[i+1],new_array)\n",
    "            print(f'loop end{i}')\n",
    "            i = i+1\n",
    "        \n",
    "            #print(f'iaa:::{i}')\n",
    "        i = i-1\n",
    "    temp2.append(temp3)\n",
    "        \n",
    "    return temp2\n"
   ]
  },
  {
   "cell_type": "code",
   "execution_count": 39,
   "metadata": {},
   "outputs": [],
   "source": [
    "def remove(array):\n",
    "    temp = []\n",
    "    n = len(intervals)\n",
    "    overlap = True\n",
    "    for i in range(n):\n",
    "        overlap = isOverlap(array, intervals[i])\n",
    "        #### case1: if not overlap\n",
    "        if overlap == False:\n",
    "            ### Add this interval in temp2 directly\n",
    "\n",
    "            temp1 = [[]]\n",
    "            while i<n and overlap == True:\n",
    "                ###interval lies within the array;\n",
    "                if array[0]>intervals[i][0] and array[1]<intervals[i][1]:\n",
    "                    temp1.insert([0][0], intervals[i][0])\n",
    "                    temp1.insert([0][1], array[0])\n",
    "                    temp1.insert([1][0], intervals[i][1])\n",
    "                    temp1.insert([1][1], array[1])\n",
    "                ### 2 sets intersects each other\n",
    "                else: \n",
    "                    temp1.insert([0][0], min(array[0], intervals[i][0]))\n",
    "                    temp1.insert([0][1], max(array[0], intervals[i][0]))\n",
    "                    temp1.insert([1][0], min(array[1], intervals[i][1]))\n",
    "                    temp1.insert([1][1], max(array[1], intervals[i][1]))\n",
    "                    \n",
    "                ###Check if second element of temp1 overlaps with next element\n",
    "                next_overlap = isOverlap(temp1[1], array)\n",
    "                if next_overlap == True:\n",
    "                    temp1.insert([1][0], min(array[1], intervals[i][1]))\n",
    "                    temp1.insert([1][1], max(array[1], intervals[i][1]))\n",
    "                i = i+1\n",
    "            i = i-1\n",
    "                    "
   ]
  },
  {
   "cell_type": "code",
   "execution_count": 4,
   "metadata": {},
   "outputs": [],
   "source": [
    "intervals = []"
   ]
  },
  {
   "cell_type": "code",
   "execution_count": 5,
   "metadata": {},
   "outputs": [
    {
     "name": "stdout",
     "output_type": "stream",
     "text": [
      "N is :0\n"
     ]
    },
    {
     "data": {
      "text/plain": [
       "[[15, 30]]"
      ]
     },
     "execution_count": 5,
     "metadata": {},
     "output_type": "execute_result"
    }
   ],
   "source": [
    "intervals = add([15,30])\n",
    "intervals"
   ]
  },
  {
   "cell_type": "code",
   "execution_count": 6,
   "metadata": {},
   "outputs": [
    {
     "name": "stdout",
     "output_type": "stream",
     "text": [
      "N is :1\n"
     ]
    },
    {
     "data": {
      "text/plain": [
       "[[1, 3], [15, 30]]"
      ]
     },
     "execution_count": 6,
     "metadata": {},
     "output_type": "execute_result"
    }
   ],
   "source": [
    "intervals = add([1,3])\n",
    "intervals"
   ]
  },
  {
   "cell_type": "code",
   "execution_count": 7,
   "metadata": {},
   "outputs": [
    {
     "name": "stdout",
     "output_type": "stream",
     "text": [
      "N is :2\n"
     ]
    },
    {
     "data": {
      "text/plain": [
       "[[1, 3], [15, 30], [31, 35]]"
      ]
     },
     "execution_count": 7,
     "metadata": {},
     "output_type": "execute_result"
    }
   ],
   "source": [
    "intervals = add([31,35])\n",
    "intervals"
   ]
  },
  {
   "cell_type": "code",
   "execution_count": 10,
   "metadata": {},
   "outputs": [
    {
     "name": "stdout",
     "output_type": "stream",
     "text": [
      "N is :3\n"
     ]
    },
    {
     "data": {
      "text/plain": [
       "[[1, 3], [4, 5], [15, 30], [31, 35]]"
      ]
     },
     "execution_count": 10,
     "metadata": {},
     "output_type": "execute_result"
    }
   ],
   "source": [
    "intervals = add([4,5])\n",
    "intervals"
   ]
  },
  {
   "cell_type": "code",
   "execution_count": 11,
   "metadata": {},
   "outputs": [
    {
     "name": "stdout",
     "output_type": "stream",
     "text": [
      "N is :4\n"
     ]
    },
    {
     "data": {
      "text/plain": [
       "[[1, 3], [4, 5], [6, 12], [15, 30], [31, 35]]"
      ]
     },
     "execution_count": 11,
     "metadata": {},
     "output_type": "execute_result"
    }
   ],
   "source": [
    "intervals = add([6,12])\n",
    "intervals"
   ]
  },
  {
   "cell_type": "code",
   "execution_count": 12,
   "metadata": {},
   "outputs": [
    {
     "name": "stdout",
     "output_type": "stream",
     "text": [
      "N is :5\n",
      "loop start:2\n",
      " temp3 is [6, 16]\n",
      "loop end2\n",
      "loop start:3\n",
      " temp3 is [6, 30]\n",
      "loop end3\n",
      "loop start:3\n",
      " temp3 is [7, 30]\n",
      "loop end3\n"
     ]
    },
    {
     "data": {
      "text/plain": [
       "[[4, 5], [31, 35], [7, 30]]"
      ]
     },
     "execution_count": 12,
     "metadata": {},
     "output_type": "execute_result"
    }
   ],
   "source": [
    "intervals = add([7,16])\n",
    "intervals"
   ]
  },
  {
   "cell_type": "code",
   "execution_count": null,
   "metadata": {},
   "outputs": [],
   "source": []
  },
  {
   "cell_type": "code",
   "execution_count": null,
   "metadata": {},
   "outputs": [],
   "source": []
  }
 ],
 "metadata": {
  "kernelspec": {
   "display_name": "Python 3",
   "language": "python",
   "name": "python3"
  },
  "language_info": {
   "codemirror_mode": {
    "name": "ipython",
    "version": 3
   },
   "file_extension": ".py",
   "mimetype": "text/x-python",
   "name": "python",
   "nbconvert_exporter": "python",
   "pygments_lexer": "ipython3",
   "version": "3.8.3"
  }
 },
 "nbformat": 4,
 "nbformat_minor": 4
}
